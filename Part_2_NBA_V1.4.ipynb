{
 "cells": [
  {
   "cell_type": "markdown",
   "metadata": {},
   "source": [
    "# Note to reader\n",
    "\n",
    "This is V1.4 of the code for Part 2 of assignment 1 for QBUS2820\n",
    "\n",
    "Changes include:\n",
    "\n",
    "1. Removed some calculations (RSquared and RSS) in the best subset algorithm for cost\n",
    "2. Calculated RMSE and made that our score rather than MSE\n",
    "3. Imported test_csv\n",
    "4. Imported maths module\n",
    "5. Renamed a lot of variables with prefix Train_ so that we can use Test_ and Train_ distinctions\n",
    "\n",
    "Note - Failed to implement an softcode feature whereby a generated dataframe would be able to tel automatically update the X variable used in the test error\n",
    "\n",
    "Ie, X = RMSE_Dict\n",
    "\n",
    "so that\n",
    "\n",
    "X = ['AST']\n",
    "\n",
    "X = ['AST', 'DEF']\n",
    "\n",
    "X = ['AST', 'DEF', 'REF']"
   ]
  },
  {
   "cell_type": "markdown",
   "metadata": {},
   "source": [
    "---------------"
   ]
  },
  {
   "cell_type": "markdown",
   "metadata": {},
   "source": [
    "# Brief\n",
    "\n",
    "Find the most appropriate predictive models of your choice to predict NBA player salary from performance statistics.\n",
    "\n",
    "As a consultant working for a sports data analytics company, the NBA league approached you to develop predictive models to predict NBA salaries based on state-of-art techniques from predictive analytics. To enable this task, you were provided with a dataset containing highly detailed performance of the NBA players. The response is the SALARY($Millions) column in the dataset.\n",
    "\n",
    "As part of the contract, you need to write a report according to the details below. The client will use a test set to evaluate your work, using RSME as the scoring metric\n",
    "\n",
    "Your report must include the validation scores for at least five different sets of predictions, including your final 2 best models. You need to make a submission on Kaggle to get each validation score. You need to present your final 2 best models in details. For the other three additional methods, only brief explanations of the models are needed."
   ]
  },
  {
   "cell_type": "markdown",
   "metadata": {},
   "source": [
    "# Explanation of Acronym\n",
    "\n",
    "Glossary very helpful https://stats.nba.com/help/glossary/\n",
    "\n",
    "**PER** - Personal efficiency rating\n",
    "\n",
    "**TS** - True shooting percentage\n",
    "\n",
    "**ORB** - Offensive rebounds\n",
    "\n",
    "**DRB** - Defensive rebounds\n",
    "\n",
    "**TRB** - Total rebounds\n",
    "\n",
    "**AST** - Assists\n",
    "\n",
    "**STL** - Steals\n",
    "\n",
    "**BLK** - Blocks\n",
    "\n",
    "**TOV** - Turnover percentage (per possession)\n",
    "\n",
    "**USG** - Usage percentage\n",
    "\n",
    "**ORtg** - Offensive rating\n",
    "\n",
    "**DRtg** - Defensive rating\n",
    "\n",
    "**OWS** - Offensive win shares\n",
    "\n",
    "**DWS** - Defensive win shares\n",
    "\n",
    "**WS** - Win shares\n"
   ]
  },
  {
   "cell_type": "markdown",
   "metadata": {},
   "source": [
    "----------------"
   ]
  },
  {
   "cell_type": "markdown",
   "metadata": {},
   "source": [
    "# Table of Contents\n",
    "\n",
    "1. Relevant Packages\n",
    "2. Importing Data\n",
    "3. Variable and lists\n",
    "4. Data Cleaning\n",
    "5. Exploratory Data Analysis"
   ]
  },
  {
   "cell_type": "markdown",
   "metadata": {},
   "source": [
    "## Relevant Packages"
   ]
  },
  {
   "cell_type": "code",
   "execution_count": 1,
   "metadata": {},
   "outputs": [],
   "source": [
    "#pandas used for importing data in a dataframe that can be examined\n",
    "import pandas as pd\n",
    "\n",
    "#numpy used for preforming various calculations with dataframes\n",
    "import numpy as np\n",
    "\n",
    "#random used for random number generation\n",
    "import random as random\n",
    "\n",
    "#time used to time calculations\n",
    "import time as time\n",
    "\n",
    "#maths used for some basic mathematical calculations\n",
    "import math\n",
    "\n",
    "#itertools used for better looping functions\n",
    "import itertools\n",
    "\n",
    "#statsmodels used for statistical models like OLS\n",
    "import statsmodels.api as sm\n",
    "import statsmodels.formula.api as smf\n",
    "\n",
    "#sklearn modules used for regression\n",
    "from sklearn import linear_model\n",
    "from sklearn.metrics import mean_squared_error\n",
    "\n",
    "#matplotlib and seaborn both used for graphing data\n",
    "import matplotlib.pyplot as plt\n",
    "import seaborn as sns"
   ]
  },
  {
   "cell_type": "markdown",
   "metadata": {},
   "source": [
    "## Importing Data"
   ]
  },
  {
   "cell_type": "code",
   "execution_count": 2,
   "metadata": {},
   "outputs": [
    {
     "data": {
      "text/html": [
       "<div>\n",
       "<style scoped>\n",
       "    .dataframe tbody tr th:only-of-type {\n",
       "        vertical-align: middle;\n",
       "    }\n",
       "\n",
       "    .dataframe tbody tr th {\n",
       "        vertical-align: top;\n",
       "    }\n",
       "\n",
       "    .dataframe thead th {\n",
       "        text-align: right;\n",
       "    }\n",
       "</style>\n",
       "<table border=\"1\" class=\"dataframe\">\n",
       "  <thead>\n",
       "    <tr style=\"text-align: right;\">\n",
       "      <th></th>\n",
       "      <th>Train_ID</th>\n",
       "      <th>SALARY</th>\n",
       "      <th>POSITION</th>\n",
       "      <th>TEAM</th>\n",
       "      <th>Age</th>\n",
       "      <th>Games</th>\n",
       "      <th>Minutes</th>\n",
       "      <th>PER</th>\n",
       "      <th>TS</th>\n",
       "      <th>ORB</th>\n",
       "      <th>...</th>\n",
       "      <th>AST</th>\n",
       "      <th>STL</th>\n",
       "      <th>BLK</th>\n",
       "      <th>TOV</th>\n",
       "      <th>USG</th>\n",
       "      <th>ORtg</th>\n",
       "      <th>DRtg</th>\n",
       "      <th>OWS</th>\n",
       "      <th>DWS</th>\n",
       "      <th>WS</th>\n",
       "    </tr>\n",
       "  </thead>\n",
       "  <tbody>\n",
       "    <tr>\n",
       "      <th>0</th>\n",
       "      <td>1</td>\n",
       "      <td>2.288205</td>\n",
       "      <td>SG</td>\n",
       "      <td>Orlando Magic</td>\n",
       "      <td>21</td>\n",
       "      <td>76</td>\n",
       "      <td>1503</td>\n",
       "      <td>10.3</td>\n",
       "      <td>0.533</td>\n",
       "      <td>2.4</td>\n",
       "      <td>...</td>\n",
       "      <td>11.6</td>\n",
       "      <td>1.1</td>\n",
       "      <td>0.3</td>\n",
       "      <td>14.3</td>\n",
       "      <td>19.7</td>\n",
       "      <td>101</td>\n",
       "      <td>111</td>\n",
       "      <td>0.6</td>\n",
       "      <td>0.8</td>\n",
       "      <td>1.4</td>\n",
       "    </tr>\n",
       "    <tr>\n",
       "      <th>1</th>\n",
       "      <td>2</td>\n",
       "      <td>2.139000</td>\n",
       "      <td>PG</td>\n",
       "      <td>Washington Wizards</td>\n",
       "      <td>29</td>\n",
       "      <td>52</td>\n",
       "      <td>1114</td>\n",
       "      <td>12.5</td>\n",
       "      <td>0.530</td>\n",
       "      <td>1.0</td>\n",
       "      <td>...</td>\n",
       "      <td>13.0</td>\n",
       "      <td>0.8</td>\n",
       "      <td>0.0</td>\n",
       "      <td>11.0</td>\n",
       "      <td>23.8</td>\n",
       "      <td>102</td>\n",
       "      <td>113</td>\n",
       "      <td>0.6</td>\n",
       "      <td>0.3</td>\n",
       "      <td>1.0</td>\n",
       "    </tr>\n",
       "    <tr>\n",
       "      <th>2</th>\n",
       "      <td>3</td>\n",
       "      <td>8.000000</td>\n",
       "      <td>SG</td>\n",
       "      <td>New York Knicks</td>\n",
       "      <td>28</td>\n",
       "      <td>73</td>\n",
       "      <td>2552</td>\n",
       "      <td>16.0</td>\n",
       "      <td>0.574</td>\n",
       "      <td>1.4</td>\n",
       "      <td>...</td>\n",
       "      <td>16.9</td>\n",
       "      <td>0.7</td>\n",
       "      <td>0.1</td>\n",
       "      <td>11.2</td>\n",
       "      <td>23.3</td>\n",
       "      <td>110</td>\n",
       "      <td>112</td>\n",
       "      <td>4.3</td>\n",
       "      <td>1.0</td>\n",
       "      <td>5.3</td>\n",
       "    </tr>\n",
       "    <tr>\n",
       "      <th>3</th>\n",
       "      <td>4</td>\n",
       "      <td>5.158539</td>\n",
       "      <td>SG</td>\n",
       "      <td>Memphis Grizzlies</td>\n",
       "      <td>32</td>\n",
       "      <td>55</td>\n",
       "      <td>1278</td>\n",
       "      <td>15.6</td>\n",
       "      <td>0.531</td>\n",
       "      <td>7.3</td>\n",
       "      <td>...</td>\n",
       "      <td>11.7</td>\n",
       "      <td>3.8</td>\n",
       "      <td>1.2</td>\n",
       "      <td>16.2</td>\n",
       "      <td>20.1</td>\n",
       "      <td>102</td>\n",
       "      <td>101</td>\n",
       "      <td>0.5</td>\n",
       "      <td>2.1</td>\n",
       "      <td>2.7</td>\n",
       "    </tr>\n",
       "    <tr>\n",
       "      <th>4</th>\n",
       "      <td>5</td>\n",
       "      <td>3.333333</td>\n",
       "      <td>PF</td>\n",
       "      <td>Atlanta Hawks</td>\n",
       "      <td>25</td>\n",
       "      <td>80</td>\n",
       "      <td>1482</td>\n",
       "      <td>15.3</td>\n",
       "      <td>0.559</td>\n",
       "      <td>4.9</td>\n",
       "      <td>...</td>\n",
       "      <td>8.9</td>\n",
       "      <td>1.0</td>\n",
       "      <td>0.4</td>\n",
       "      <td>10.3</td>\n",
       "      <td>23.5</td>\n",
       "      <td>105</td>\n",
       "      <td>108</td>\n",
       "      <td>1.3</td>\n",
       "      <td>1.2</td>\n",
       "      <td>2.6</td>\n",
       "    </tr>\n",
       "  </tbody>\n",
       "</table>\n",
       "<p>5 rows × 22 columns</p>\n",
       "</div>"
      ],
      "text/plain": [
       "   Train_ID    SALARY POSITION                TEAM  Age  Games  Minutes   PER  \\\n",
       "0         1  2.288205       SG       Orlando Magic   21     76     1503  10.3   \n",
       "1         2  2.139000       PG  Washington Wizards   29     52     1114  12.5   \n",
       "2         3  8.000000       SG     New York Knicks   28     73     2552  16.0   \n",
       "3         4  5.158539       SG   Memphis Grizzlies   32     55     1278  15.6   \n",
       "4         5  3.333333       PF       Atlanta Hawks   25     80     1482  15.3   \n",
       "\n",
       "      TS  ORB ...    AST  STL  BLK   TOV   USG  ORtg  DRtg  OWS  DWS   WS  \n",
       "0  0.533  2.4 ...   11.6  1.1  0.3  14.3  19.7   101   111  0.6  0.8  1.4  \n",
       "1  0.530  1.0 ...   13.0  0.8  0.0  11.0  23.8   102   113  0.6  0.3  1.0  \n",
       "2  0.574  1.4 ...   16.9  0.7  0.1  11.2  23.3   110   112  4.3  1.0  5.3  \n",
       "3  0.531  7.3 ...   11.7  3.8  1.2  16.2  20.1   102   101  0.5  2.1  2.7  \n",
       "4  0.559  4.9 ...    8.9  1.0  0.4  10.3  23.5   105   108  1.3  1.2  2.6  \n",
       "\n",
       "[5 rows x 22 columns]"
      ]
     },
     "execution_count": 2,
     "metadata": {},
     "output_type": "execute_result"
    }
   ],
   "source": [
    "#read_csv is used for .csv\n",
    "Raw_Train = pd.read_csv('p2_train.csv') \n",
    "\n",
    "Raw_Train.head(5) #note that the ... column is not shown for space saving reasons"
   ]
  },
  {
   "cell_type": "code",
   "execution_count": 3,
   "metadata": {},
   "outputs": [
    {
     "data": {
      "text/html": [
       "<div>\n",
       "<style scoped>\n",
       "    .dataframe tbody tr th:only-of-type {\n",
       "        vertical-align: middle;\n",
       "    }\n",
       "\n",
       "    .dataframe tbody tr th {\n",
       "        vertical-align: top;\n",
       "    }\n",
       "\n",
       "    .dataframe thead th {\n",
       "        text-align: right;\n",
       "    }\n",
       "</style>\n",
       "<table border=\"1\" class=\"dataframe\">\n",
       "  <thead>\n",
       "    <tr style=\"text-align: right;\">\n",
       "      <th></th>\n",
       "      <th>Id</th>\n",
       "      <th>POSITION</th>\n",
       "      <th>TEAM</th>\n",
       "      <th>Age</th>\n",
       "      <th>Games</th>\n",
       "      <th>Minutes</th>\n",
       "      <th>PER</th>\n",
       "      <th>TS</th>\n",
       "      <th>ORB</th>\n",
       "      <th>DRB</th>\n",
       "      <th>...</th>\n",
       "      <th>AST</th>\n",
       "      <th>STL</th>\n",
       "      <th>BLK</th>\n",
       "      <th>TOV</th>\n",
       "      <th>USG</th>\n",
       "      <th>ORtg</th>\n",
       "      <th>DRtg</th>\n",
       "      <th>OWS</th>\n",
       "      <th>DWS</th>\n",
       "      <th>WS</th>\n",
       "    </tr>\n",
       "  </thead>\n",
       "  <tbody>\n",
       "    <tr>\n",
       "      <th>0</th>\n",
       "      <td>1</td>\n",
       "      <td>SG</td>\n",
       "      <td>Utah Jazz</td>\n",
       "      <td>22</td>\n",
       "      <td>78</td>\n",
       "      <td>2193</td>\n",
       "      <td>15.8</td>\n",
       "      <td>0.547</td>\n",
       "      <td>3.0</td>\n",
       "      <td>10.7</td>\n",
       "      <td>...</td>\n",
       "      <td>16.9</td>\n",
       "      <td>1.7</td>\n",
       "      <td>0.5</td>\n",
       "      <td>13.0</td>\n",
       "      <td>23.9</td>\n",
       "      <td>106</td>\n",
       "      <td>113</td>\n",
       "      <td>2.6</td>\n",
       "      <td>0.6</td>\n",
       "      <td>3.2</td>\n",
       "    </tr>\n",
       "    <tr>\n",
       "      <th>1</th>\n",
       "      <td>2</td>\n",
       "      <td>PG</td>\n",
       "      <td>Phoenix Suns</td>\n",
       "      <td>22</td>\n",
       "      <td>75</td>\n",
       "      <td>1132</td>\n",
       "      <td>8.8</td>\n",
       "      <td>0.390</td>\n",
       "      <td>1.9</td>\n",
       "      <td>8.8</td>\n",
       "      <td>...</td>\n",
       "      <td>30.8</td>\n",
       "      <td>3.1</td>\n",
       "      <td>0.3</td>\n",
       "      <td>24.2</td>\n",
       "      <td>14.1</td>\n",
       "      <td>89</td>\n",
       "      <td>107</td>\n",
       "      <td>-1.0</td>\n",
       "      <td>1.1</td>\n",
       "      <td>0.1</td>\n",
       "    </tr>\n",
       "    <tr>\n",
       "      <th>2</th>\n",
       "      <td>3</td>\n",
       "      <td>SF</td>\n",
       "      <td>Chicago Bulls</td>\n",
       "      <td>22</td>\n",
       "      <td>77</td>\n",
       "      <td>1231</td>\n",
       "      <td>8.0</td>\n",
       "      <td>0.489</td>\n",
       "      <td>1.8</td>\n",
       "      <td>9.6</td>\n",
       "      <td>...</td>\n",
       "      <td>9.1</td>\n",
       "      <td>1.3</td>\n",
       "      <td>0.9</td>\n",
       "      <td>11.1</td>\n",
       "      <td>14.9</td>\n",
       "      <td>97</td>\n",
       "      <td>104</td>\n",
       "      <td>-0.1</td>\n",
       "      <td>1.7</td>\n",
       "      <td>1.6</td>\n",
       "    </tr>\n",
       "    <tr>\n",
       "      <th>3</th>\n",
       "      <td>4</td>\n",
       "      <td>C</td>\n",
       "      <td>Utah Jazz</td>\n",
       "      <td>23</td>\n",
       "      <td>58</td>\n",
       "      <td>684</td>\n",
       "      <td>15.2</td>\n",
       "      <td>0.590</td>\n",
       "      <td>8.2</td>\n",
       "      <td>17.4</td>\n",
       "      <td>...</td>\n",
       "      <td>5.6</td>\n",
       "      <td>1.1</td>\n",
       "      <td>6.1</td>\n",
       "      <td>11.0</td>\n",
       "      <td>12.0</td>\n",
       "      <td>122</td>\n",
       "      <td>108</td>\n",
       "      <td>1.2</td>\n",
       "      <td>0.6</td>\n",
       "      <td>1.8</td>\n",
       "    </tr>\n",
       "    <tr>\n",
       "      <th>4</th>\n",
       "      <td>5</td>\n",
       "      <td>PF</td>\n",
       "      <td>Golden State Warriors</td>\n",
       "      <td>27</td>\n",
       "      <td>82</td>\n",
       "      <td>2007</td>\n",
       "      <td>11.1</td>\n",
       "      <td>0.523</td>\n",
       "      <td>8.5</td>\n",
       "      <td>21.3</td>\n",
       "      <td>...</td>\n",
       "      <td>4.1</td>\n",
       "      <td>0.8</td>\n",
       "      <td>2.3</td>\n",
       "      <td>14.5</td>\n",
       "      <td>14.4</td>\n",
       "      <td>103</td>\n",
       "      <td>108</td>\n",
       "      <td>0.9</td>\n",
       "      <td>1.7</td>\n",
       "      <td>2.7</td>\n",
       "    </tr>\n",
       "  </tbody>\n",
       "</table>\n",
       "<p>5 rows × 21 columns</p>\n",
       "</div>"
      ],
      "text/plain": [
       "   Id POSITION                   TEAM  Age  Games  Minutes   PER     TS  ORB  \\\n",
       "0   1       SG              Utah Jazz   22     78     2193  15.8  0.547  3.0   \n",
       "1   2       PG           Phoenix Suns   22     75     1132   8.8  0.390  1.9   \n",
       "2   3       SF          Chicago Bulls   22     77     1231   8.0  0.489  1.8   \n",
       "3   4        C              Utah Jazz   23     58      684  15.2  0.590  8.2   \n",
       "4   5       PF  Golden State Warriors   27     82     2007  11.1  0.523  8.5   \n",
       "\n",
       "    DRB ...    AST  STL  BLK   TOV   USG  ORtg  DRtg  OWS  DWS   WS  \n",
       "0  10.7 ...   16.9  1.7  0.5  13.0  23.9   106   113  2.6  0.6  3.2  \n",
       "1   8.8 ...   30.8  3.1  0.3  24.2  14.1    89   107 -1.0  1.1  0.1  \n",
       "2   9.6 ...    9.1  1.3  0.9  11.1  14.9    97   104 -0.1  1.7  1.6  \n",
       "3  17.4 ...    5.6  1.1  6.1  11.0  12.0   122   108  1.2  0.6  1.8  \n",
       "4  21.3 ...    4.1  0.8  2.3  14.5  14.4   103   108  0.9  1.7  2.7  \n",
       "\n",
       "[5 rows x 21 columns]"
      ]
     },
     "execution_count": 3,
     "metadata": {},
     "output_type": "execute_result"
    }
   ],
   "source": [
    "Raw_Test = pd.read_csv('p2_test.csv')\n",
    "\n",
    "Raw_Test.head(5)"
   ]
  },
  {
   "cell_type": "markdown",
   "metadata": {},
   "source": [
    "## Data Cleaning"
   ]
  },
  {
   "cell_type": "code",
   "execution_count": 4,
   "metadata": {
    "scrolled": true
   },
   "outputs": [
    {
     "data": {
      "text/html": [
       "<div>\n",
       "<style scoped>\n",
       "    .dataframe tbody tr th:only-of-type {\n",
       "        vertical-align: middle;\n",
       "    }\n",
       "\n",
       "    .dataframe tbody tr th {\n",
       "        vertical-align: top;\n",
       "    }\n",
       "\n",
       "    .dataframe thead th {\n",
       "        text-align: right;\n",
       "    }\n",
       "</style>\n",
       "<table border=\"1\" class=\"dataframe\">\n",
       "  <thead>\n",
       "    <tr style=\"text-align: right;\">\n",
       "      <th></th>\n",
       "      <th>key_0</th>\n",
       "      <th>Train_ID</th>\n",
       "      <th>SALARY</th>\n",
       "      <th>POSITION</th>\n",
       "      <th>TEAM</th>\n",
       "      <th>Age</th>\n",
       "      <th>Games</th>\n",
       "      <th>Minutes</th>\n",
       "      <th>PER</th>\n",
       "      <th>TS</th>\n",
       "      <th>...</th>\n",
       "      <th>Dum_Oklahoma City Thunder</th>\n",
       "      <th>Dum_Orlando Magic</th>\n",
       "      <th>Dum_Philadelphia 76ers</th>\n",
       "      <th>Dum_Phoenix Suns</th>\n",
       "      <th>Dum_Portland Trail Blazers</th>\n",
       "      <th>Dum_Sacramento Kings</th>\n",
       "      <th>Dum_San Antonio Spurs</th>\n",
       "      <th>Dum_Toronto Raptors</th>\n",
       "      <th>Dum_Utah Jazz</th>\n",
       "      <th>Dum_Washington Wizards</th>\n",
       "    </tr>\n",
       "  </thead>\n",
       "  <tbody>\n",
       "    <tr>\n",
       "      <th>0</th>\n",
       "      <td>1</td>\n",
       "      <td>1</td>\n",
       "      <td>2.288205</td>\n",
       "      <td>SG</td>\n",
       "      <td>Orlando Magic</td>\n",
       "      <td>21</td>\n",
       "      <td>76</td>\n",
       "      <td>1503</td>\n",
       "      <td>10.3</td>\n",
       "      <td>0.533</td>\n",
       "      <td>...</td>\n",
       "      <td>0</td>\n",
       "      <td>1</td>\n",
       "      <td>0</td>\n",
       "      <td>0</td>\n",
       "      <td>0</td>\n",
       "      <td>0</td>\n",
       "      <td>0</td>\n",
       "      <td>0</td>\n",
       "      <td>0</td>\n",
       "      <td>0</td>\n",
       "    </tr>\n",
       "    <tr>\n",
       "      <th>1</th>\n",
       "      <td>2</td>\n",
       "      <td>2</td>\n",
       "      <td>2.139000</td>\n",
       "      <td>PG</td>\n",
       "      <td>Washington Wizards</td>\n",
       "      <td>29</td>\n",
       "      <td>52</td>\n",
       "      <td>1114</td>\n",
       "      <td>12.5</td>\n",
       "      <td>0.530</td>\n",
       "      <td>...</td>\n",
       "      <td>0</td>\n",
       "      <td>0</td>\n",
       "      <td>0</td>\n",
       "      <td>0</td>\n",
       "      <td>0</td>\n",
       "      <td>0</td>\n",
       "      <td>0</td>\n",
       "      <td>0</td>\n",
       "      <td>0</td>\n",
       "      <td>1</td>\n",
       "    </tr>\n",
       "    <tr>\n",
       "      <th>2</th>\n",
       "      <td>3</td>\n",
       "      <td>3</td>\n",
       "      <td>8.000000</td>\n",
       "      <td>SG</td>\n",
       "      <td>New York Knicks</td>\n",
       "      <td>28</td>\n",
       "      <td>73</td>\n",
       "      <td>2552</td>\n",
       "      <td>16.0</td>\n",
       "      <td>0.574</td>\n",
       "      <td>...</td>\n",
       "      <td>0</td>\n",
       "      <td>0</td>\n",
       "      <td>0</td>\n",
       "      <td>0</td>\n",
       "      <td>0</td>\n",
       "      <td>0</td>\n",
       "      <td>0</td>\n",
       "      <td>0</td>\n",
       "      <td>0</td>\n",
       "      <td>0</td>\n",
       "    </tr>\n",
       "    <tr>\n",
       "      <th>3</th>\n",
       "      <td>4</td>\n",
       "      <td>4</td>\n",
       "      <td>5.158539</td>\n",
       "      <td>SG</td>\n",
       "      <td>Memphis Grizzlies</td>\n",
       "      <td>32</td>\n",
       "      <td>55</td>\n",
       "      <td>1278</td>\n",
       "      <td>15.6</td>\n",
       "      <td>0.531</td>\n",
       "      <td>...</td>\n",
       "      <td>0</td>\n",
       "      <td>0</td>\n",
       "      <td>0</td>\n",
       "      <td>0</td>\n",
       "      <td>0</td>\n",
       "      <td>0</td>\n",
       "      <td>0</td>\n",
       "      <td>0</td>\n",
       "      <td>0</td>\n",
       "      <td>0</td>\n",
       "    </tr>\n",
       "    <tr>\n",
       "      <th>4</th>\n",
       "      <td>5</td>\n",
       "      <td>5</td>\n",
       "      <td>3.333333</td>\n",
       "      <td>PF</td>\n",
       "      <td>Atlanta Hawks</td>\n",
       "      <td>25</td>\n",
       "      <td>80</td>\n",
       "      <td>1482</td>\n",
       "      <td>15.3</td>\n",
       "      <td>0.559</td>\n",
       "      <td>...</td>\n",
       "      <td>0</td>\n",
       "      <td>0</td>\n",
       "      <td>0</td>\n",
       "      <td>0</td>\n",
       "      <td>0</td>\n",
       "      <td>0</td>\n",
       "      <td>0</td>\n",
       "      <td>0</td>\n",
       "      <td>0</td>\n",
       "      <td>0</td>\n",
       "    </tr>\n",
       "  </tbody>\n",
       "</table>\n",
       "<p>5 rows × 53 columns</p>\n",
       "</div>"
      ],
      "text/plain": [
       "   key_0  Train_ID    SALARY POSITION                TEAM  Age  Games  \\\n",
       "0      1         1  2.288205       SG       Orlando Magic   21     76   \n",
       "1      2         2  2.139000       PG  Washington Wizards   29     52   \n",
       "2      3         3  8.000000       SG     New York Knicks   28     73   \n",
       "3      4         4  5.158539       SG   Memphis Grizzlies   32     55   \n",
       "4      5         5  3.333333       PF       Atlanta Hawks   25     80   \n",
       "\n",
       "   Minutes   PER     TS           ...            Dum_Oklahoma City Thunder  \\\n",
       "0     1503  10.3  0.533           ...                                    0   \n",
       "1     1114  12.5  0.530           ...                                    0   \n",
       "2     2552  16.0  0.574           ...                                    0   \n",
       "3     1278  15.6  0.531           ...                                    0   \n",
       "4     1482  15.3  0.559           ...                                    0   \n",
       "\n",
       "   Dum_Orlando Magic  Dum_Philadelphia 76ers  Dum_Phoenix Suns  \\\n",
       "0                  1                       0                 0   \n",
       "1                  0                       0                 0   \n",
       "2                  0                       0                 0   \n",
       "3                  0                       0                 0   \n",
       "4                  0                       0                 0   \n",
       "\n",
       "   Dum_Portland Trail Blazers  Dum_Sacramento Kings  Dum_San Antonio Spurs  \\\n",
       "0                           0                     0                      0   \n",
       "1                           0                     0                      0   \n",
       "2                           0                     0                      0   \n",
       "3                           0                     0                      0   \n",
       "4                           0                     0                      0   \n",
       "\n",
       "   Dum_Toronto Raptors  Dum_Utah Jazz  Dum_Washington Wizards  \n",
       "0                    0              0                       0  \n",
       "1                    0              0                       1  \n",
       "2                    0              0                       0  \n",
       "3                    0              0                       0  \n",
       "4                    0              0                       0  \n",
       "\n",
       "[5 rows x 53 columns]"
      ]
     },
     "execution_count": 4,
     "metadata": {},
     "output_type": "execute_result"
    }
   ],
   "source": [
    "#creating dummmy variables for TEAM and POSITION\n",
    "DumTEAM_Train = pd.get_dummies(Raw_Train.TEAM, prefix= 'Dum')\n",
    "DumPOS_Train = pd.get_dummies(Raw_Train.POSITION, prefix= 'Dum')\n",
    "\n",
    "Temp_Train_1 = pd.merge(Raw_Train, DumPOS_Train, on= Raw_Train['Train_ID'])\n",
    "Temp_Train_2 = pd.merge(Raw_Train, DumTEAM_Train, on= Raw_Train['Train_ID'])\n",
    "\n",
    "Temp_Train = Temp_Train_2\n",
    "\n",
    "Temp_Train.head(5)"
   ]
  },
  {
   "cell_type": "code",
   "execution_count": 5,
   "metadata": {},
   "outputs": [
    {
     "name": "stdout",
     "output_type": "stream",
     "text": [
      "Good to go!\n"
     ]
    }
   ],
   "source": [
    "#checking for empty cells\n",
    "if Temp_Train.empty:\n",
    "    print('DataFrame is empty!')\n",
    "else:\n",
    "    print('Good to go!')"
   ]
  },
  {
   "cell_type": "code",
   "execution_count": 6,
   "metadata": {},
   "outputs": [
    {
     "name": "stdout",
     "output_type": "stream",
     "text": [
      "Good to go!\n"
     ]
    }
   ],
   "source": [
    "#checking for NaN values\n",
    "if Temp_Train.isnull().any().any():\n",
    "    NaN_Sum = Raw_Train.isnull().sum().sum() \n",
    "    print('Dataframe has NaN values:', NaN_Sum)\n",
    "else:\n",
    "    print('Good to go!')"
   ]
  },
  {
   "cell_type": "code",
   "execution_count": 7,
   "metadata": {},
   "outputs": [
    {
     "name": "stdout",
     "output_type": "stream",
     "text": [
      "Good to go!\n"
     ]
    }
   ],
   "source": [
    "#checking for empty cells\n",
    "if Raw_Test.empty:\n",
    "    print('DataFrame is empty!')\n",
    "else:\n",
    "    print('Good to go!')"
   ]
  },
  {
   "cell_type": "code",
   "execution_count": 8,
   "metadata": {},
   "outputs": [
    {
     "name": "stdout",
     "output_type": "stream",
     "text": [
      "Good to go!\n"
     ]
    }
   ],
   "source": [
    "#checking for NaN values\n",
    "if Raw_Test.isnull().any().any():\n",
    "    NaN_Sum = Raw_Train.isnull().sum().sum() \n",
    "    print('Dataframe has NaN values:', NaN_Sum)\n",
    "else:\n",
    "    print('Good to go!')"
   ]
  },
  {
   "cell_type": "markdown",
   "metadata": {},
   "source": [
    "### Notes\n",
    "\n",
    "There are no empty or incorrect observations/cells so we can begin with our EDA. Data cleaning is not necessary as the data seems to be of acceptable quality\n",
    "\n",
    "\n",
    "Moreover, no changes to the names or values of observations were made"
   ]
  },
  {
   "cell_type": "code",
   "execution_count": 9,
   "metadata": {},
   "outputs": [],
   "source": [
    "Train = Raw_Train"
   ]
  },
  {
   "cell_type": "code",
   "execution_count": 10,
   "metadata": {},
   "outputs": [],
   "source": [
    "Test = Raw_Test"
   ]
  },
  {
   "cell_type": "markdown",
   "metadata": {},
   "source": [
    "## Variables and List\n",
    "\n",
    "Created some variables and list to prepare for subsequent coding. Probably not best method to place it here but meh. Open to suggestions"
   ]
  },
  {
   "cell_type": "code",
   "execution_count": 11,
   "metadata": {},
   "outputs": [],
   "source": [
    "#use this list for big functions\n",
    "Allvariables = [\n",
    "    'SALARY',\n",
    "    'POSITION',\n",
    "    'TEAM',\n",
    "    'Age',\n",
    "    'Games',\n",
    "    'Minutes',\n",
    "    'PER',\n",
    "    'TS',\n",
    "    'ORB',\n",
    "    'DRB',\n",
    "    'TRB',\n",
    "    'AST',\n",
    "    'STL',\n",
    "    'BLK',\n",
    "    'TOV',\n",
    "    'USG',\n",
    "    'ORtg',\n",
    "    'DRtg',\n",
    "    'OWS',\n",
    "    'DWS',\n",
    "    'WS',\n",
    "]\n",
    "\n",
    "#Is all variables except salary and categorical variables\n",
    "Allintegervar = [\n",
    "    'Age',\n",
    "    'Games',\n",
    "    'Minutes',\n",
    "    'PER',\n",
    "    'TS',\n",
    "    'ORB',\n",
    "    'DRB',\n",
    "    'TRB',\n",
    "    'AST',\n",
    "    'STL',\n",
    "    'BLK',\n",
    "    'TOV',\n",
    "    'USG',\n",
    "    'ORtg',\n",
    "    'DRtg',\n",
    "    'OWS',\n",
    "    'DWS',\n",
    "    'WS',    \n",
    "]"
   ]
  },
  {
   "cell_type": "markdown",
   "metadata": {},
   "source": [
    "## Exploratory Data Analysis\n",
    "\n",
    "Need to make sure our data is acceptable for OLS regression and KNN. We are testing for the 5+1 assumptions in OLS\n",
    "\n",
    "1. Regression model is linear in parameters\n",
    "There should be no non-linear variables. We only have integer or % values. \n",
    "\n",
    "2. Random sampling of observations, (iid)\n",
    "We can assume yes as the data was given to us and it appears to be randomly taken from basketball teams\n",
    "\n",
    "3. Homoscedastic residuals or equal variance of residuals\n",
    "Use a plot of residuals to check when model is made\n",
    "\n",
    "4. Conditional mean of error terms is 0\n",
    "No relationship between error and X\n",
    "\n",
    "5. No multi-collinearity\n",
    "Need to be careful of overall rating = defensive + offensive rating\n",
    "\n",
    "6. Error terms are normally distributed\n",
    "Use a plot of errors to check when model is made"
   ]
  },
  {
   "cell_type": "markdown",
   "metadata": {},
   "source": [
    "### Scatterplot Matrix\n",
    "\n",
    "Download the image to see it properly. Check the discord for the jpeg format because you may open the png copy which removes the white background"
   ]
  },
  {
   "cell_type": "code",
   "execution_count": 12,
   "metadata": {},
   "outputs": [],
   "source": [
    "#Scatterplot_Matrix_1 = sns.pairplot(Train[Allintegervar ], \n",
    "#                                    kind= 'reg', \n",
    "#                                    plot_kws = {'scatter_kws' :{'color': sns.color_palette('Blues')[-1],\n",
    "#                                    'alpha': 0.4}})\n",
    "\n",
    "#plt.tight_layout()\n",
    "#plt.show()"
   ]
  },
  {
   "cell_type": "markdown",
   "metadata": {},
   "source": [
    "### Graphs for the response variable (SALARY)\n",
    "\n",
    "The boxplot shows an alright distribution for salary. We expect to have some high salary for star players. Furthermore, the pattern plot shows no obvious pattern so we can say no other variable is affecting salary.\n",
    "\n",
    "If we do create a OLS model, we could use a log model to nullify the outliers"
   ]
  },
  {
   "cell_type": "code",
   "execution_count": 13,
   "metadata": {},
   "outputs": [
    {
     "data": {
      "image/png": "[encoded data removed]",
      "text/plain": [
       "<Figure size 432x288 with 1 Axes>"
      ]
     },
     "metadata": {},
     "output_type": "display_data"
    }
   ],
   "source": [
    "#boxplot\n",
    "Boxplot_Salary = sns.boxplot(x= Train['SALARY'], data= Train, palette='Blues', showmeans=True)\n",
    "\n",
    "plt.title('Boxplot for Salary')\n",
    "\n",
    "plt.show()"
   ]
  },
  {
   "cell_type": "code",
   "execution_count": 14,
   "metadata": {},
   "outputs": [
    {
     "data": {
      "image/png": "[encoded data removed]",
      "text/plain": [
       "<Figure size 432x288 with 1 Axes>"
      ]
     },
     "metadata": {},
     "output_type": "display_data"
    }
   ],
   "source": [
    "#patternplot\n",
    "Train['SALARY'].plot()\n",
    "\n",
    "plt.title('Scatterplot for salary and observation number')\n",
    "plt.xlabel('observation number')\n",
    "plt.ylabel('salary')\n",
    "\n",
    "plt.show()"
   ]
  },
  {
   "cell_type": "code",
   "execution_count": 15,
   "metadata": {},
   "outputs": [
    {
     "data": {
      "image/png": "[encoded data removed]",
      "text/plain": [
       "<Figure size 432x288 with 2 Axes>"
      ]
     },
     "metadata": {},
     "output_type": "display_data"
    }
   ],
   "source": [
    "Heatmap_Matrix_1 = sns.heatmap(Train[Allvariables].corr(), \n",
    "            vmax= 1, \n",
    "            vmin= -1, \n",
    "            center= 0,\n",
    "            square= True,\n",
    "            linewidths=1,\n",
    "            annot= False,\n",
    "            #ax= Heatmap_Matrix_1,\n",
    "            cmap= 'YlGnBu')\n",
    "\n",
    "Heatmap_Matrix_1.set_title(' Correlation Heatmap Matrix for all variables', fontweight= 'bold', fontsize= 13)\n",
    "\n",
    "plt.show()"
   ]
  },
  {
   "cell_type": "markdown",
   "metadata": {},
   "source": [
    "## Exploratory Data Analysis for Dummies\n",
    "\n",
    "Wrote a seperate part here to check dummies.\n",
    "\n",
    "In short, there aren't enough values in the dummies for adequate analysis. Need to clean this bit up with for loops and other pandas functions: https://stackoverflow.com/questions/46431243/pandas-dataframe-groupby-how-to-get-sum-of-multiple-columns"
   ]
  },
  {
   "cell_type": "code",
   "execution_count": 16,
   "metadata": {
    "scrolled": false
   },
   "outputs": [
    {
     "data": {
      "text/html": [
       "<div>\n",
       "<style scoped>\n",
       "    .dataframe tbody tr th:only-of-type {\n",
       "        vertical-align: middle;\n",
       "    }\n",
       "\n",
       "    .dataframe tbody tr th {\n",
       "        vertical-align: top;\n",
       "    }\n",
       "\n",
       "    .dataframe thead th {\n",
       "        text-align: right;\n",
       "    }\n",
       "</style>\n",
       "<table border=\"1\" class=\"dataframe\">\n",
       "  <thead>\n",
       "    <tr style=\"text-align: right;\">\n",
       "      <th></th>\n",
       "      <th>Dum_Atlanta Hawks</th>\n",
       "      <th>Dum_Boston Celtics</th>\n",
       "      <th>Dum_Brooklyn Nets</th>\n",
       "      <th>Dum_Charlotte Hornets</th>\n",
       "      <th>Dum_Chicago Bulls</th>\n",
       "      <th>Dum_Cleveland Cavaliers</th>\n",
       "      <th>Dum_Dallas Mavericks</th>\n",
       "      <th>Dum_Denver Nuggets</th>\n",
       "      <th>Dum_Detroit Pistons</th>\n",
       "      <th>Dum_Golden State Warriors</th>\n",
       "      <th>...</th>\n",
       "      <th>Dum_Oklahoma City Thunder</th>\n",
       "      <th>Dum_Orlando Magic</th>\n",
       "      <th>Dum_Philadelphia 76ers</th>\n",
       "      <th>Dum_Phoenix Suns</th>\n",
       "      <th>Dum_Portland Trail Blazers</th>\n",
       "      <th>Dum_Sacramento Kings</th>\n",
       "      <th>Dum_San Antonio Spurs</th>\n",
       "      <th>Dum_Toronto Raptors</th>\n",
       "      <th>Dum_Utah Jazz</th>\n",
       "      <th>Dum_Washington Wizards</th>\n",
       "    </tr>\n",
       "  </thead>\n",
       "  <tbody>\n",
       "    <tr>\n",
       "      <th>0</th>\n",
       "      <td>0</td>\n",
       "      <td>0</td>\n",
       "      <td>0</td>\n",
       "      <td>0</td>\n",
       "      <td>0</td>\n",
       "      <td>0</td>\n",
       "      <td>0</td>\n",
       "      <td>0</td>\n",
       "      <td>0</td>\n",
       "      <td>0</td>\n",
       "      <td>...</td>\n",
       "      <td>0</td>\n",
       "      <td>1</td>\n",
       "      <td>0</td>\n",
       "      <td>0</td>\n",
       "      <td>0</td>\n",
       "      <td>0</td>\n",
       "      <td>0</td>\n",
       "      <td>0</td>\n",
       "      <td>0</td>\n",
       "      <td>0</td>\n",
       "    </tr>\n",
       "    <tr>\n",
       "      <th>1</th>\n",
       "      <td>0</td>\n",
       "      <td>0</td>\n",
       "      <td>0</td>\n",
       "      <td>0</td>\n",
       "      <td>0</td>\n",
       "      <td>0</td>\n",
       "      <td>0</td>\n",
       "      <td>0</td>\n",
       "      <td>0</td>\n",
       "      <td>0</td>\n",
       "      <td>...</td>\n",
       "      <td>0</td>\n",
       "      <td>0</td>\n",
       "      <td>0</td>\n",
       "      <td>0</td>\n",
       "      <td>0</td>\n",
       "      <td>0</td>\n",
       "      <td>0</td>\n",
       "      <td>0</td>\n",
       "      <td>0</td>\n",
       "      <td>1</td>\n",
       "    </tr>\n",
       "    <tr>\n",
       "      <th>2</th>\n",
       "      <td>0</td>\n",
       "      <td>0</td>\n",
       "      <td>0</td>\n",
       "      <td>0</td>\n",
       "      <td>0</td>\n",
       "      <td>0</td>\n",
       "      <td>0</td>\n",
       "      <td>0</td>\n",
       "      <td>0</td>\n",
       "      <td>0</td>\n",
       "      <td>...</td>\n",
       "      <td>0</td>\n",
       "      <td>0</td>\n",
       "      <td>0</td>\n",
       "      <td>0</td>\n",
       "      <td>0</td>\n",
       "      <td>0</td>\n",
       "      <td>0</td>\n",
       "      <td>0</td>\n",
       "      <td>0</td>\n",
       "      <td>0</td>\n",
       "    </tr>\n",
       "    <tr>\n",
       "      <th>3</th>\n",
       "      <td>0</td>\n",
       "      <td>0</td>\n",
       "      <td>0</td>\n",
       "      <td>0</td>\n",
       "      <td>0</td>\n",
       "      <td>0</td>\n",
       "      <td>0</td>\n",
       "      <td>0</td>\n",
       "      <td>0</td>\n",
       "      <td>0</td>\n",
       "      <td>...</td>\n",
       "      <td>0</td>\n",
       "      <td>0</td>\n",
       "      <td>0</td>\n",
       "      <td>0</td>\n",
       "      <td>0</td>\n",
       "      <td>0</td>\n",
       "      <td>0</td>\n",
       "      <td>0</td>\n",
       "      <td>0</td>\n",
       "      <td>0</td>\n",
       "    </tr>\n",
       "    <tr>\n",
       "      <th>4</th>\n",
       "      <td>1</td>\n",
       "      <td>0</td>\n",
       "      <td>0</td>\n",
       "      <td>0</td>\n",
       "      <td>0</td>\n",
       "      <td>0</td>\n",
       "      <td>0</td>\n",
       "      <td>0</td>\n",
       "      <td>0</td>\n",
       "      <td>0</td>\n",
       "      <td>...</td>\n",
       "      <td>0</td>\n",
       "      <td>0</td>\n",
       "      <td>0</td>\n",
       "      <td>0</td>\n",
       "      <td>0</td>\n",
       "      <td>0</td>\n",
       "      <td>0</td>\n",
       "      <td>0</td>\n",
       "      <td>0</td>\n",
       "      <td>0</td>\n",
       "    </tr>\n",
       "  </tbody>\n",
       "</table>\n",
       "<p>5 rows × 30 columns</p>\n",
       "</div>"
      ],
      "text/plain": [
       "   Dum_Atlanta Hawks  Dum_Boston Celtics  Dum_Brooklyn Nets  \\\n",
       "0                  0                   0                  0   \n",
       "1                  0                   0                  0   \n",
       "2                  0                   0                  0   \n",
       "3                  0                   0                  0   \n",
       "4                  1                   0                  0   \n",
       "\n",
       "   Dum_Charlotte Hornets  Dum_Chicago Bulls  Dum_Cleveland Cavaliers  \\\n",
       "0                      0                  0                        0   \n",
       "1                      0                  0                        0   \n",
       "2                      0                  0                        0   \n",
       "3                      0                  0                        0   \n",
       "4                      0                  0                        0   \n",
       "\n",
       "   Dum_Dallas Mavericks  Dum_Denver Nuggets  Dum_Detroit Pistons  \\\n",
       "0                     0                   0                    0   \n",
       "1                     0                   0                    0   \n",
       "2                     0                   0                    0   \n",
       "3                     0                   0                    0   \n",
       "4                     0                   0                    0   \n",
       "\n",
       "   Dum_Golden State Warriors           ...            \\\n",
       "0                          0           ...             \n",
       "1                          0           ...             \n",
       "2                          0           ...             \n",
       "3                          0           ...             \n",
       "4                          0           ...             \n",
       "\n",
       "   Dum_Oklahoma City Thunder  Dum_Orlando Magic  Dum_Philadelphia 76ers  \\\n",
       "0                          0                  1                       0   \n",
       "1                          0                  0                       0   \n",
       "2                          0                  0                       0   \n",
       "3                          0                  0                       0   \n",
       "4                          0                  0                       0   \n",
       "\n",
       "   Dum_Phoenix Suns  Dum_Portland Trail Blazers  Dum_Sacramento Kings  \\\n",
       "0                 0                           0                     0   \n",
       "1                 0                           0                     0   \n",
       "2                 0                           0                     0   \n",
       "3                 0                           0                     0   \n",
       "4                 0                           0                     0   \n",
       "\n",
       "   Dum_San Antonio Spurs  Dum_Toronto Raptors  Dum_Utah Jazz  \\\n",
       "0                      0                    0              0   \n",
       "1                      0                    0              0   \n",
       "2                      0                    0              0   \n",
       "3                      0                    0              0   \n",
       "4                      0                    0              0   \n",
       "\n",
       "   Dum_Washington Wizards  \n",
       "0                       0  \n",
       "1                       1  \n",
       "2                       0  \n",
       "3                       0  \n",
       "4                       0  \n",
       "\n",
       "[5 rows x 30 columns]"
      ]
     },
     "execution_count": 16,
     "metadata": {},
     "output_type": "execute_result"
    }
   ],
   "source": [
    "DumTEAM_Train.head(5)"
   ]
  },
  {
   "cell_type": "code",
   "execution_count": 17,
   "metadata": {
    "scrolled": true
   },
   "outputs": [
    {
     "data": {
      "text/html": [
       "<div>\n",
       "<style scoped>\n",
       "    .dataframe tbody tr th:only-of-type {\n",
       "        vertical-align: middle;\n",
       "    }\n",
       "\n",
       "    .dataframe tbody tr th {\n",
       "        vertical-align: top;\n",
       "    }\n",
       "\n",
       "    .dataframe thead th {\n",
       "        text-align: right;\n",
       "    }\n",
       "</style>\n",
       "<table border=\"1\" class=\"dataframe\">\n",
       "  <thead>\n",
       "    <tr style=\"text-align: right;\">\n",
       "      <th></th>\n",
       "      <th>Dum_C</th>\n",
       "      <th>Dum_PF</th>\n",
       "      <th>Dum_PG</th>\n",
       "      <th>Dum_SF</th>\n",
       "      <th>Dum_SG</th>\n",
       "    </tr>\n",
       "  </thead>\n",
       "  <tbody>\n",
       "    <tr>\n",
       "      <th>0</th>\n",
       "      <td>0</td>\n",
       "      <td>0</td>\n",
       "      <td>0</td>\n",
       "      <td>0</td>\n",
       "      <td>1</td>\n",
       "    </tr>\n",
       "    <tr>\n",
       "      <th>1</th>\n",
       "      <td>0</td>\n",
       "      <td>0</td>\n",
       "      <td>1</td>\n",
       "      <td>0</td>\n",
       "      <td>0</td>\n",
       "    </tr>\n",
       "    <tr>\n",
       "      <th>2</th>\n",
       "      <td>0</td>\n",
       "      <td>0</td>\n",
       "      <td>0</td>\n",
       "      <td>0</td>\n",
       "      <td>1</td>\n",
       "    </tr>\n",
       "    <tr>\n",
       "      <th>3</th>\n",
       "      <td>0</td>\n",
       "      <td>0</td>\n",
       "      <td>0</td>\n",
       "      <td>0</td>\n",
       "      <td>1</td>\n",
       "    </tr>\n",
       "    <tr>\n",
       "      <th>4</th>\n",
       "      <td>0</td>\n",
       "      <td>1</td>\n",
       "      <td>0</td>\n",
       "      <td>0</td>\n",
       "      <td>0</td>\n",
       "    </tr>\n",
       "  </tbody>\n",
       "</table>\n",
       "</div>"
      ],
      "text/plain": [
       "   Dum_C  Dum_PF  Dum_PG  Dum_SF  Dum_SG\n",
       "0      0       0       0       0       1\n",
       "1      0       0       1       0       0\n",
       "2      0       0       0       0       1\n",
       "3      0       0       0       0       1\n",
       "4      0       1       0       0       0"
      ]
     },
     "execution_count": 17,
     "metadata": {},
     "output_type": "execute_result"
    }
   ],
   "source": [
    "DumPOS_Train.head(5)"
   ]
  },
  {
   "cell_type": "code",
   "execution_count": 18,
   "metadata": {},
   "outputs": [],
   "source": [
    "#creating some lists and variables for the bar charts\n",
    "Dum_Team = ('Oklahoma', 'Orlando', 'Philadelphia', \n",
    "            'Phoenix', 'Portland', 'Sacramento', \n",
    "            'San Antonio', 'Toronto', 'Utah', 'Washington')\n",
    "Dum_Team_Sum = (Temp_Train['Dum_Oklahoma City Thunder'].sum(), \n",
    "                Temp_Train['Dum_Orlando Magic'].sum(),\n",
    "                Temp_Train['Dum_Philadelphia 76ers'].sum(),\n",
    "                Temp_Train['Dum_Phoenix Suns'].sum(),\n",
    "                Temp_Train['Dum_Portland Trail Blazers'].sum(),\n",
    "                Temp_Train['Dum_Sacramento Kings'].sum(),\n",
    "                Temp_Train['Dum_San Antonio Spurs'].sum(),\n",
    "                Temp_Train['Dum_Toronto Raptors'].sum(),\n",
    "                Temp_Train['Dum_Utah Jazz'].sum(),\n",
    "                Temp_Train['Dum_Washington Wizards'].sum())\n",
    "Dum_Team_Ypos = np.arange(len(Dum_Team_Sum))\n",
    "\n",
    "Dum_Pos = ('')"
   ]
  },
  {
   "cell_type": "code",
   "execution_count": 19,
   "metadata": {},
   "outputs": [
    {
     "data": {
      "image/png": "[encoded data removed]",
      "text/plain": [
       "<Figure size 432x288 with 1 Axes>"
      ]
     },
     "metadata": {},
     "output_type": "display_data"
    }
   ],
   "source": [
    "#Bar chart for team count\n",
    "plt.barh(Dum_Team_Ypos, Dum_Team_Sum, align= 'center', alpha= 0.5 )\n",
    "plt.yticks(Dum_Team_Ypos, Dum_Team)\n",
    "plt.xlabel('Count')\n",
    "plt.title('NBA teams')\n",
    " \n",
    "plt.show()"
   ]
  },
  {
   "cell_type": "code",
   "execution_count": 20,
   "metadata": {},
   "outputs": [
    {
     "data": {
      "text/plain": [
       "(23, 28, 26, 20, 30)"
      ]
     },
     "execution_count": 20,
     "metadata": {},
     "output_type": "execute_result"
    }
   ],
   "source": [
    "Dum_Pos_Sum = (DumPOS_Train['Dum_C'].sum(),\n",
    "               DumPOS_Train['Dum_PF'].sum(),\n",
    "               DumPOS_Train['Dum_PG'].sum(),\n",
    "               DumPOS_Train['Dum_SF'].sum(),\n",
    "               DumPOS_Train['Dum_SG'].sum())\n",
    "Dum_Pos_Sum"
   ]
  },
  {
   "cell_type": "markdown",
   "metadata": {},
   "source": [
    "## Model Selection\n",
    "\n",
    "Created my own function using the help of these links: (have to check up on if we're plagarising)\n",
    "\n",
    "http://www.science.smith.edu/~jcrouser/SDS293/labs/lab8-py.html\n",
    "\n",
    "https://xavierbourretsicotte.github.io/subset_selection.html\n",
    "\n",
    "https://www.youtube.com/watch?v=Wb2Tp35dZ-I"
   ]
  },
  {
   "cell_type": "code",
   "execution_count": 21,
   "metadata": {},
   "outputs": [],
   "source": [
    "#function used to create a linear regression model\n",
    "#calculates an OLS model and subsequently, MSE, RSS and Rsquared\n",
    "def Temp_OLS(X, Y):\n",
    "    Trainmodel = linear_model.LinearRegression(fit_intercept= True)\n",
    "    Trainmodel.fit(X, Y)\n",
    "    MSE = mean_squared_error(Y, Trainmodel.predict(X))\n",
    "    RMSE = math.sqrt(mean_squared_error(Y, Trainmodel.predict(X)))\n",
    "\n",
    "    return MSE, RMSE"
   ]
  },
  {
   "cell_type": "code",
   "execution_count": 22,
   "metadata": {},
   "outputs": [
    {
     "data": {
      "text/plain": [
       "(12615, 4)"
      ]
     },
     "execution_count": 22,
     "metadata": {},
     "output_type": "execute_result"
    }
   ],
   "source": [
    "#model selection algorithm 1\n",
    "Y = Train['SALARY']\n",
    "X = Train.drop(['Train_ID', 'SALARY', 'TEAM', 'POSITION'], axis= 1)\n",
    "\n",
    "Train_MSE_List = []\n",
    "Train_RMSE_List = []\n",
    "Train_Feature_Number = []\n",
    "Train_Feature_List = []\n",
    "\n",
    "for Kilo in range(1, 6): #note max value of kilo (k) is 20 as no categorical predictors. Takes ~10m to caculate range (1,11)\n",
    "    for combinations in itertools.combinations(X.columns, Kilo):\n",
    "        Train_Result = Temp_OLS(X[list(combinations)], Y) #convert tuple to list\n",
    "        Train_MSE_List.append(Train_Result[0])   \n",
    "        Train_RMSE_List.append(Train_Result[1])\n",
    "        Train_Feature_Number.append(len(combinations))    \n",
    "        Train_Feature_List.append(combinations)\n",
    "    \n",
    "Bestsubset = pd.DataFrame({\n",
    "    'Feature Number': Train_Feature_Number,\n",
    "    'Features': Train_Feature_List,\n",
    "    'MSE': Train_MSE_List,\n",
    "    'RMSE': Train_RMSE_List,\n",
    "})\n",
    "\n",
    "Bestsubset.shape"
   ]
  },
  {
   "cell_type": "code",
   "execution_count": 23,
   "metadata": {},
   "outputs": [
    {
     "data": {
      "image/png": "[encoded data removed]",
      "text/plain": [
       "<Figure size 432x288 with 1 Axes>"
      ]
     },
     "metadata": {},
     "output_type": "display_data"
    }
   ],
   "source": [
    "#boxplot\n",
    "Boxplot_RMSE = sns.boxplot(x= Bestsubset['RMSE'], data= Bestsubset, palette= 'Blues', showmeans= True)\n",
    "\n",
    "plt.title('Boxplot for RMSE')\n",
    "\n",
    "plt.show()"
   ]
  },
  {
   "cell_type": "code",
   "execution_count": 24,
   "metadata": {},
   "outputs": [
    {
     "name": "stdout",
     "output_type": "stream",
     "text": [
      "1\n",
      "2\n",
      "3\n",
      "4\n",
      "5\n"
     ]
    }
   ],
   "source": [
    "#creating seperate dataframes for each feature number\n",
    "Bestsubset_Temp = Bestsubset.groupby('Feature Number')\n",
    "\n",
    "for keys, values in Bestsubset_Temp:\n",
    "    print(keys)"
   ]
  },
  {
   "cell_type": "code",
   "execution_count": 25,
   "metadata": {},
   "outputs": [
    {
     "data": {
      "text/html": [
       "<div>\n",
       "<style scoped>\n",
       "    .dataframe tbody tr th:only-of-type {\n",
       "        vertical-align: middle;\n",
       "    }\n",
       "\n",
       "    .dataframe tbody tr th {\n",
       "        vertical-align: top;\n",
       "    }\n",
       "\n",
       "    .dataframe thead th {\n",
       "        text-align: right;\n",
       "    }\n",
       "</style>\n",
       "<table border=\"1\" class=\"dataframe\">\n",
       "  <thead>\n",
       "    <tr style=\"text-align: right;\">\n",
       "      <th></th>\n",
       "      <th>Features</th>\n",
       "      <th>MSE</th>\n",
       "      <th>RMSE</th>\n",
       "    </tr>\n",
       "    <tr>\n",
       "      <th>Feature Number</th>\n",
       "      <th></th>\n",
       "      <th></th>\n",
       "      <th></th>\n",
       "    </tr>\n",
       "  </thead>\n",
       "  <tbody>\n",
       "    <tr>\n",
       "      <th>1</th>\n",
       "      <td>(AST,)</td>\n",
       "      <td>17.335114</td>\n",
       "      <td>4.163546</td>\n",
       "    </tr>\n",
       "    <tr>\n",
       "      <th>2</th>\n",
       "      <td>(AST, BLK)</td>\n",
       "      <td>14.228934</td>\n",
       "      <td>3.772126</td>\n",
       "    </tr>\n",
       "    <tr>\n",
       "      <th>3</th>\n",
       "      <td>(AST, BLK, DRtg)</td>\n",
       "      <td>12.827446</td>\n",
       "      <td>3.581542</td>\n",
       "    </tr>\n",
       "    <tr>\n",
       "      <th>4</th>\n",
       "      <td>(AST, BLK, DRtg, DWS)</td>\n",
       "      <td>11.619989</td>\n",
       "      <td>3.408810</td>\n",
       "    </tr>\n",
       "    <tr>\n",
       "      <th>5</th>\n",
       "      <td>(AST, BLK, DRtg, DWS, WS)</td>\n",
       "      <td>11.237626</td>\n",
       "      <td>3.352257</td>\n",
       "    </tr>\n",
       "  </tbody>\n",
       "</table>\n",
       "</div>"
      ],
      "text/plain": [
       "                                 Features        MSE      RMSE\n",
       "Feature Number                                                \n",
       "1                                  (AST,)  17.335114  4.163546\n",
       "2                              (AST, BLK)  14.228934  3.772126\n",
       "3                        (AST, BLK, DRtg)  12.827446  3.581542\n",
       "4                   (AST, BLK, DRtg, DWS)  11.619989  3.408810\n",
       "5               (AST, BLK, DRtg, DWS, WS)  11.237626  3.352257"
      ]
     },
     "execution_count": 25,
     "metadata": {},
     "output_type": "execute_result"
    }
   ],
   "source": [
    "#Finding minimum value in all Stepwise df\n",
    "Bestsubset_Temp.min()"
   ]
  },
  {
   "cell_type": "code",
   "execution_count": 26,
   "metadata": {},
   "outputs": [
    {
     "data": {
      "image/png": "[encoded data removed]",
      "text/plain": [
       "<Figure size 432x288 with 1 Axes>"
      ]
     },
     "metadata": {},
     "output_type": "display_data"
    },
    {
     "name": "stdout",
     "output_type": "stream",
     "text": [
      "Lowest RMSE = 3.3522568480940014\n"
     ]
    }
   ],
   "source": [
    "#creating half of the learning curve plotting test error\n",
    "Bestsubset_RMSE = Bestsubset.groupby('Feature Number', as_index= False)['RMSE'].min()\n",
    "\n",
    "fig, ax=plt.subplots()\n",
    "ax.plot(Bestsubset_RMSE['Feature Number'], Bestsubset_RMSE['RMSE'], color= '#1F77B4')\n",
    "ax.set_xlabel('Number of features')\n",
    "ax.set_ylabel('RMSE')\n",
    "plt.show()\n",
    "\n",
    "print('Lowest RMSE = {}'.format(Bestsubset_RMSE['RMSE'].min()))"
   ]
  },
  {
   "cell_type": "markdown",
   "metadata": {},
   "source": [
    "### Want so that our prediction will use the features in the MinRMSE dataframe, along with the test data to calculate test error\n",
    "\n",
    "https://machinelearningmastery.com/make-predictions-scikit-learn/\n",
    "\n",
    "http://scikit-learn.org/stable/modules/generated/sklearn.linear_model.LinearRegression.html"
   ]
  },
  {
   "cell_type": "code",
   "execution_count": 134,
   "metadata": {
    "scrolled": true
   },
   "outputs": [],
   "source": [
    "#df of all min RMSE values for each feature number\n",
    "MinRMSE = Bestsubset_Temp.min()\n",
    "\n",
    "#for some reason 'Feature Number' isn't indexed in df so making a new column to reference off\n",
    "Temp_DF_1 = MinRMSE.drop(['MSE', 'RMSE'], axis= 1)\n",
    "Temp_DF_1.insert(0, 'ID', range(0, + len(Temp_DF_1))) "
   ]
  },
  {
   "cell_type": "code",
   "execution_count": 135,
   "metadata": {},
   "outputs": [
    {
     "data": {
      "text/plain": [
       "{0: ('AST',),\n",
       " 1: ('AST', 'BLK'),\n",
       " 2: ('AST', 'BLK', 'DRtg'),\n",
       " 3: ('AST', 'BLK', 'DRtg', 'DWS'),\n",
       " 4: ('AST', 'BLK', 'DRtg', 'DWS', 'WS')}"
      ]
     },
     "execution_count": 135,
     "metadata": {},
     "output_type": "execute_result"
    }
   ],
   "source": [
    "#creatinga  dictionary for looping\n",
    "MinRMSE_Dict = Temp_DF_1.set_index('ID')['Features'].to_dict()\n",
    "MinRMSE_Dict"
   ]
  },
  {
   "cell_type": "code",
   "execution_count": 136,
   "metadata": {},
   "outputs": [
    {
     "name": "stdout",
     "output_type": "stream",
     "text": [
      "('AST',)\n",
      "('AST', 'BLK')\n",
      "('AST', 'BLK', 'DRtg')\n",
      "('AST', 'BLK', 'DRtg', 'DWS')\n",
      "('AST', 'BLK', 'DRtg', 'DWS', 'WS')\n"
     ]
    }
   ],
   "source": [
    "for keys, values in MinRMSE_Dict.items():\n",
    "    print(values)"
   ]
  },
  {
   "cell_type": "code",
   "execution_count": 166,
   "metadata": {},
   "outputs": [
    {
     "ename": "TypeError",
     "evalue": "values() takes no arguments (1 given)",
     "output_type": "error",
     "traceback": [
      "\u001b[1;31m---------------------------------------------------------------------------\u001b[0m",
      "\u001b[1;31mTypeError\u001b[0m                                 Traceback (most recent call last)",
      "\u001b[1;32m<ipython-input-166-c58a328d1332>\u001b[0m in \u001b[0;36m<module>\u001b[1;34m()\u001b[0m\n\u001b[1;32m----> 1\u001b[1;33m \u001b[0mRemo\u001b[0m \u001b[1;33m=\u001b[0m \u001b[0mTrain\u001b[0m\u001b[1;33m[\u001b[0m\u001b[0mMinRMSE_Dict\u001b[0m\u001b[1;33m.\u001b[0m\u001b[0mvalues\u001b[0m\u001b[1;33m]\u001b[0m \u001b[1;31m#references all values in the MinRMSE dictionary\u001b[0m\u001b[1;33m\u001b[0m\u001b[0m\n\u001b[0m",
      "\u001b[1;32mS:\\Anaconda_5.2.0\\lib\\site-packages\\pandas\\core\\frame.py\u001b[0m in \u001b[0;36m__getitem__\u001b[1;34m(self, key)\u001b[0m\n\u001b[0;32m   2660\u001b[0m \u001b[1;33m\u001b[0m\u001b[0m\n\u001b[0;32m   2661\u001b[0m     \u001b[1;32mdef\u001b[0m \u001b[0m__getitem__\u001b[0m\u001b[1;33m(\u001b[0m\u001b[0mself\u001b[0m\u001b[1;33m,\u001b[0m \u001b[0mkey\u001b[0m\u001b[1;33m)\u001b[0m\u001b[1;33m:\u001b[0m\u001b[1;33m\u001b[0m\u001b[0m\n\u001b[1;32m-> 2662\u001b[1;33m         \u001b[0mkey\u001b[0m \u001b[1;33m=\u001b[0m \u001b[0mcom\u001b[0m\u001b[1;33m.\u001b[0m\u001b[0m_apply_if_callable\u001b[0m\u001b[1;33m(\u001b[0m\u001b[0mkey\u001b[0m\u001b[1;33m,\u001b[0m \u001b[0mself\u001b[0m\u001b[1;33m)\u001b[0m\u001b[1;33m\u001b[0m\u001b[0m\n\u001b[0m\u001b[0;32m   2663\u001b[0m \u001b[1;33m\u001b[0m\u001b[0m\n\u001b[0;32m   2664\u001b[0m         \u001b[1;31m# shortcut if we are an actual column\u001b[0m\u001b[1;33m\u001b[0m\u001b[1;33m\u001b[0m\u001b[0m\n",
      "\u001b[1;32mS:\\Anaconda_5.2.0\\lib\\site-packages\\pandas\\core\\common.py\u001b[0m in \u001b[0;36m_apply_if_callable\u001b[1;34m(maybe_callable, obj, **kwargs)\u001b[0m\n\u001b[0;32m    403\u001b[0m \u001b[1;33m\u001b[0m\u001b[0m\n\u001b[0;32m    404\u001b[0m     \u001b[1;32mif\u001b[0m \u001b[0mcallable\u001b[0m\u001b[1;33m(\u001b[0m\u001b[0mmaybe_callable\u001b[0m\u001b[1;33m)\u001b[0m\u001b[1;33m:\u001b[0m\u001b[1;33m\u001b[0m\u001b[0m\n\u001b[1;32m--> 405\u001b[1;33m         \u001b[1;32mreturn\u001b[0m \u001b[0mmaybe_callable\u001b[0m\u001b[1;33m(\u001b[0m\u001b[0mobj\u001b[0m\u001b[1;33m,\u001b[0m \u001b[1;33m**\u001b[0m\u001b[0mkwargs\u001b[0m\u001b[1;33m)\u001b[0m\u001b[1;33m\u001b[0m\u001b[0m\n\u001b[0m\u001b[0;32m    406\u001b[0m \u001b[1;33m\u001b[0m\u001b[0m\n\u001b[0;32m    407\u001b[0m     \u001b[1;32mreturn\u001b[0m \u001b[0mmaybe_callable\u001b[0m\u001b[1;33m\u001b[0m\u001b[0m\n",
      "\u001b[1;31mTypeError\u001b[0m: values() takes no arguments (1 given)"
     ]
    }
   ],
   "source": [
    "Remo = Train[MinRMSE_Dict.values] #references all values in the MinRMSE dictionary"
   ]
  },
  {
   "cell_type": "code",
   "execution_count": 172,
   "metadata": {},
   "outputs": [
    {
     "data": {
      "text/plain": [
       "array([[('AST',)],\n",
       "       [('AST', 'BLK')],\n",
       "       [('AST', 'BLK', 'DRtg')],\n",
       "       [('AST', 'BLK', 'DRtg', 'DWS')],\n",
       "       [('AST', 'BLK', 'DRtg', 'DWS', 'WS')]], dtype=object)"
      ]
     },
     "execution_count": 172,
     "metadata": {},
     "output_type": "execute_result"
    }
   ],
   "source": [
    "#used df.values to create an array\n",
    "Temp_DF_2 = MinRMSE.drop(['MSE', 'RMSE'], axis= 1)\n",
    "Features_RMSE = Temp_DF_2.values\n",
    "Features_RMSE\n"
   ]
  },
  {
   "cell_type": "code",
   "execution_count": 167,
   "metadata": {},
   "outputs": [
    {
     "ename": "KeyError",
     "evalue": "\"[(('AST',),) (('AST', 'BLK'),) (('AST', 'BLK', 'DRtg'),)\\n (('AST', 'BLK', 'DRtg', 'DWS'),) (('AST', 'BLK', 'DRtg', 'DWS', 'WS'),)] not in index\"",
     "output_type": "error",
     "traceback": [
      "\u001b[1;31m---------------------------------------------------------------------------\u001b[0m",
      "\u001b[1;31mKeyError\u001b[0m                                  Traceback (most recent call last)",
      "\u001b[1;32m<ipython-input-167-379ab3966772>\u001b[0m in \u001b[0;36m<module>\u001b[1;34m()\u001b[0m\n\u001b[1;32m----> 1\u001b[1;33m \u001b[0mTrain\u001b[0m\u001b[1;33m[\u001b[0m\u001b[0mFeatures_RMSE\u001b[0m\u001b[1;33m]\u001b[0m\u001b[1;33m\u001b[0m\u001b[0m\n\u001b[0m",
      "\u001b[1;32mS:\\Anaconda_5.2.0\\lib\\site-packages\\pandas\\core\\frame.py\u001b[0m in \u001b[0;36m__getitem__\u001b[1;34m(self, key)\u001b[0m\n\u001b[0;32m   2677\u001b[0m         \u001b[1;32mif\u001b[0m \u001b[0misinstance\u001b[0m\u001b[1;33m(\u001b[0m\u001b[0mkey\u001b[0m\u001b[1;33m,\u001b[0m \u001b[1;33m(\u001b[0m\u001b[0mSeries\u001b[0m\u001b[1;33m,\u001b[0m \u001b[0mnp\u001b[0m\u001b[1;33m.\u001b[0m\u001b[0mndarray\u001b[0m\u001b[1;33m,\u001b[0m \u001b[0mIndex\u001b[0m\u001b[1;33m,\u001b[0m \u001b[0mlist\u001b[0m\u001b[1;33m)\u001b[0m\u001b[1;33m)\u001b[0m\u001b[1;33m:\u001b[0m\u001b[1;33m\u001b[0m\u001b[0m\n\u001b[0;32m   2678\u001b[0m             \u001b[1;31m# either boolean or fancy integer index\u001b[0m\u001b[1;33m\u001b[0m\u001b[1;33m\u001b[0m\u001b[0m\n\u001b[1;32m-> 2679\u001b[1;33m             \u001b[1;32mreturn\u001b[0m \u001b[0mself\u001b[0m\u001b[1;33m.\u001b[0m\u001b[0m_getitem_array\u001b[0m\u001b[1;33m(\u001b[0m\u001b[0mkey\u001b[0m\u001b[1;33m)\u001b[0m\u001b[1;33m\u001b[0m\u001b[0m\n\u001b[0m\u001b[0;32m   2680\u001b[0m         \u001b[1;32melif\u001b[0m \u001b[0misinstance\u001b[0m\u001b[1;33m(\u001b[0m\u001b[0mkey\u001b[0m\u001b[1;33m,\u001b[0m \u001b[0mDataFrame\u001b[0m\u001b[1;33m)\u001b[0m\u001b[1;33m:\u001b[0m\u001b[1;33m\u001b[0m\u001b[0m\n\u001b[0;32m   2681\u001b[0m             \u001b[1;32mreturn\u001b[0m \u001b[0mself\u001b[0m\u001b[1;33m.\u001b[0m\u001b[0m_getitem_frame\u001b[0m\u001b[1;33m(\u001b[0m\u001b[0mkey\u001b[0m\u001b[1;33m)\u001b[0m\u001b[1;33m\u001b[0m\u001b[0m\n",
      "\u001b[1;32mS:\\Anaconda_5.2.0\\lib\\site-packages\\pandas\\core\\frame.py\u001b[0m in \u001b[0;36m_getitem_array\u001b[1;34m(self, key)\u001b[0m\n\u001b[0;32m   2721\u001b[0m             \u001b[1;32mreturn\u001b[0m \u001b[0mself\u001b[0m\u001b[1;33m.\u001b[0m\u001b[0m_take\u001b[0m\u001b[1;33m(\u001b[0m\u001b[0mindexer\u001b[0m\u001b[1;33m,\u001b[0m \u001b[0maxis\u001b[0m\u001b[1;33m=\u001b[0m\u001b[1;36m0\u001b[0m\u001b[1;33m)\u001b[0m\u001b[1;33m\u001b[0m\u001b[0m\n\u001b[0;32m   2722\u001b[0m         \u001b[1;32melse\u001b[0m\u001b[1;33m:\u001b[0m\u001b[1;33m\u001b[0m\u001b[0m\n\u001b[1;32m-> 2723\u001b[1;33m             \u001b[0mindexer\u001b[0m \u001b[1;33m=\u001b[0m \u001b[0mself\u001b[0m\u001b[1;33m.\u001b[0m\u001b[0mloc\u001b[0m\u001b[1;33m.\u001b[0m\u001b[0m_convert_to_indexer\u001b[0m\u001b[1;33m(\u001b[0m\u001b[0mkey\u001b[0m\u001b[1;33m,\u001b[0m \u001b[0maxis\u001b[0m\u001b[1;33m=\u001b[0m\u001b[1;36m1\u001b[0m\u001b[1;33m)\u001b[0m\u001b[1;33m\u001b[0m\u001b[0m\n\u001b[0m\u001b[0;32m   2724\u001b[0m             \u001b[1;32mreturn\u001b[0m \u001b[0mself\u001b[0m\u001b[1;33m.\u001b[0m\u001b[0m_take\u001b[0m\u001b[1;33m(\u001b[0m\u001b[0mindexer\u001b[0m\u001b[1;33m,\u001b[0m \u001b[0maxis\u001b[0m\u001b[1;33m=\u001b[0m\u001b[1;36m1\u001b[0m\u001b[1;33m)\u001b[0m\u001b[1;33m\u001b[0m\u001b[0m\n\u001b[0;32m   2725\u001b[0m \u001b[1;33m\u001b[0m\u001b[0m\n",
      "\u001b[1;32mS:\\Anaconda_5.2.0\\lib\\site-packages\\pandas\\core\\indexing.py\u001b[0m in \u001b[0;36m_convert_to_indexer\u001b[1;34m(self, obj, axis, is_setter)\u001b[0m\n\u001b[0;32m   1325\u001b[0m                 \u001b[1;32mif\u001b[0m \u001b[0mmask\u001b[0m\u001b[1;33m.\u001b[0m\u001b[0many\u001b[0m\u001b[1;33m(\u001b[0m\u001b[1;33m)\u001b[0m\u001b[1;33m:\u001b[0m\u001b[1;33m\u001b[0m\u001b[0m\n\u001b[0;32m   1326\u001b[0m                     raise KeyError('{mask} not in index'\n\u001b[1;32m-> 1327\u001b[1;33m                                    .format(mask=objarr[mask]))\n\u001b[0m\u001b[0;32m   1328\u001b[0m \u001b[1;33m\u001b[0m\u001b[0m\n\u001b[0;32m   1329\u001b[0m                 \u001b[1;32mreturn\u001b[0m \u001b[0mcom\u001b[0m\u001b[1;33m.\u001b[0m\u001b[0m_values_from_object\u001b[0m\u001b[1;33m(\u001b[0m\u001b[0mindexer\u001b[0m\u001b[1;33m)\u001b[0m\u001b[1;33m\u001b[0m\u001b[0m\n",
      "\u001b[1;31mKeyError\u001b[0m: \"[(('AST',),) (('AST', 'BLK'),) (('AST', 'BLK', 'DRtg'),)\\n (('AST', 'BLK', 'DRtg', 'DWS'),) (('AST', 'BLK', 'DRtg', 'DWS', 'WS'),)] not in index\""
     ]
    }
   ],
   "source": [
    "Train[Features_RMSE]"
   ]
  },
  {
   "cell_type": "code",
   "execution_count": null,
   "metadata": {},
   "outputs": [],
   "source": []
  },
  {
   "cell_type": "code",
   "execution_count": 141,
   "metadata": {},
   "outputs": [
    {
     "ename": "SyntaxError",
     "evalue": "invalid syntax (<ipython-input-141-0f5abc1e331a>, line 4)",
     "output_type": "error",
     "traceback": [
      "\u001b[1;36m  File \u001b[1;32m\"<ipython-input-141-0f5abc1e331a>\"\u001b[1;36m, line \u001b[1;32m4\u001b[0m\n\u001b[1;33m    knn = KNeighborsRegressor(n_neighbors= 4, metric= 'mahalanobis'.....etc)\u001b[0m\n\u001b[1;37m                                                                     ^\u001b[0m\n\u001b[1;31mSyntaxError\u001b[0m\u001b[1;31m:\u001b[0m invalid syntax\n"
     ]
    }
   ],
   "source": [
    "#Jasmine code\n",
    "\n",
    "predictors = ['something', 'something']\n",
    "knn = KNeighborsRegressor(n_neighbors= 4, metric= 'mahalanobis'.....etc)\n",
    "knn.fit(train[predictors], train['SALARY'])\n",
    "\n",
    "predictions = knn.predict(test[predictors])\n",
    "\n",
    "df = pd.DataFrame(predictions)\n",
    "\n",
    "test = #here\n",
    "#df.to_csv('something.csv')"
   ]
  },
  {
   "cell_type": "code",
   "execution_count": 156,
   "metadata": {},
   "outputs": [],
   "source": [
    "#function used to create a linear regression model\n",
    "#calculates an OLS model and subsequently, MSE, RSS and Rsquared\n",
    "def Test_OLS(X, Y):\n",
    "    Testmodel = linear_model.LinearRegression(fit_intercept= True)\n",
    "    Testmodel.fit(X, Y)\n",
    "    MSE = mean_squared_error(Y, Testmodel.predict(X))\n",
    "    RMSE = math.sqrt(mean_squared_error(Y, Testmodel.predict(X)))\n",
    "    Prediction = Testmodel.predict(test[Features_RMSE])  #value to change\n",
    "\n",
    "    return MSE, RMSE, Prediction"
   ]
  },
  {
   "cell_type": "code",
   "execution_count": 158,
   "metadata": {
    "scrolled": true
   },
   "outputs": [
    {
     "ename": "KeyError",
     "evalue": "\"[(('AST',),) (('AST', 'BLK'),) (('AST', 'BLK', 'DRtg'),)\\n (('AST', 'BLK', 'DRtg', 'DWS'),) (('AST', 'BLK', 'DRtg', 'DWS', 'WS'),)] not in index\"",
     "output_type": "error",
     "traceback": [
      "\u001b[1;31m---------------------------------------------------------------------------\u001b[0m",
      "\u001b[1;31mKeyError\u001b[0m                                  Traceback (most recent call last)",
      "\u001b[1;32m<ipython-input-158-c84f072a8c8c>\u001b[0m in \u001b[0;36m<module>\u001b[1;34m()\u001b[0m\n\u001b[0;32m      1\u001b[0m \u001b[1;31m#model selection algorithm 2\u001b[0m\u001b[1;33m\u001b[0m\u001b[1;33m\u001b[0m\u001b[0m\n\u001b[0;32m      2\u001b[0m \u001b[0mY\u001b[0m \u001b[1;33m=\u001b[0m \u001b[0mTrain\u001b[0m\u001b[1;33m[\u001b[0m\u001b[1;34m'SALARY'\u001b[0m\u001b[1;33m]\u001b[0m\u001b[1;33m\u001b[0m\u001b[0m\n\u001b[1;32m----> 3\u001b[1;33m \u001b[0mX\u001b[0m \u001b[1;33m=\u001b[0m \u001b[0mTrain\u001b[0m\u001b[1;33m[\u001b[0m\u001b[0mFeatures_RMSE\u001b[0m\u001b[1;33m]\u001b[0m \u001b[1;31m#references all values in the MinRMSE dictionary\u001b[0m\u001b[1;33m\u001b[0m\u001b[0m\n\u001b[0m\u001b[0;32m      4\u001b[0m \u001b[1;33m\u001b[0m\u001b[0m\n\u001b[0;32m      5\u001b[0m \u001b[0mTest_MSE_List\u001b[0m \u001b[1;33m=\u001b[0m \u001b[1;33m[\u001b[0m\u001b[1;33m]\u001b[0m\u001b[1;33m\u001b[0m\u001b[0m\n",
      "\u001b[1;32mS:\\Anaconda_5.2.0\\lib\\site-packages\\pandas\\core\\frame.py\u001b[0m in \u001b[0;36m__getitem__\u001b[1;34m(self, key)\u001b[0m\n\u001b[0;32m   2677\u001b[0m         \u001b[1;32mif\u001b[0m \u001b[0misinstance\u001b[0m\u001b[1;33m(\u001b[0m\u001b[0mkey\u001b[0m\u001b[1;33m,\u001b[0m \u001b[1;33m(\u001b[0m\u001b[0mSeries\u001b[0m\u001b[1;33m,\u001b[0m \u001b[0mnp\u001b[0m\u001b[1;33m.\u001b[0m\u001b[0mndarray\u001b[0m\u001b[1;33m,\u001b[0m \u001b[0mIndex\u001b[0m\u001b[1;33m,\u001b[0m \u001b[0mlist\u001b[0m\u001b[1;33m)\u001b[0m\u001b[1;33m)\u001b[0m\u001b[1;33m:\u001b[0m\u001b[1;33m\u001b[0m\u001b[0m\n\u001b[0;32m   2678\u001b[0m             \u001b[1;31m# either boolean or fancy integer index\u001b[0m\u001b[1;33m\u001b[0m\u001b[1;33m\u001b[0m\u001b[0m\n\u001b[1;32m-> 2679\u001b[1;33m             \u001b[1;32mreturn\u001b[0m \u001b[0mself\u001b[0m\u001b[1;33m.\u001b[0m\u001b[0m_getitem_array\u001b[0m\u001b[1;33m(\u001b[0m\u001b[0mkey\u001b[0m\u001b[1;33m)\u001b[0m\u001b[1;33m\u001b[0m\u001b[0m\n\u001b[0m\u001b[0;32m   2680\u001b[0m         \u001b[1;32melif\u001b[0m \u001b[0misinstance\u001b[0m\u001b[1;33m(\u001b[0m\u001b[0mkey\u001b[0m\u001b[1;33m,\u001b[0m \u001b[0mDataFrame\u001b[0m\u001b[1;33m)\u001b[0m\u001b[1;33m:\u001b[0m\u001b[1;33m\u001b[0m\u001b[0m\n\u001b[0;32m   2681\u001b[0m             \u001b[1;32mreturn\u001b[0m \u001b[0mself\u001b[0m\u001b[1;33m.\u001b[0m\u001b[0m_getitem_frame\u001b[0m\u001b[1;33m(\u001b[0m\u001b[0mkey\u001b[0m\u001b[1;33m)\u001b[0m\u001b[1;33m\u001b[0m\u001b[0m\n",
      "\u001b[1;32mS:\\Anaconda_5.2.0\\lib\\site-packages\\pandas\\core\\frame.py\u001b[0m in \u001b[0;36m_getitem_array\u001b[1;34m(self, key)\u001b[0m\n\u001b[0;32m   2721\u001b[0m             \u001b[1;32mreturn\u001b[0m \u001b[0mself\u001b[0m\u001b[1;33m.\u001b[0m\u001b[0m_take\u001b[0m\u001b[1;33m(\u001b[0m\u001b[0mindexer\u001b[0m\u001b[1;33m,\u001b[0m \u001b[0maxis\u001b[0m\u001b[1;33m=\u001b[0m\u001b[1;36m0\u001b[0m\u001b[1;33m)\u001b[0m\u001b[1;33m\u001b[0m\u001b[0m\n\u001b[0;32m   2722\u001b[0m         \u001b[1;32melse\u001b[0m\u001b[1;33m:\u001b[0m\u001b[1;33m\u001b[0m\u001b[0m\n\u001b[1;32m-> 2723\u001b[1;33m             \u001b[0mindexer\u001b[0m \u001b[1;33m=\u001b[0m \u001b[0mself\u001b[0m\u001b[1;33m.\u001b[0m\u001b[0mloc\u001b[0m\u001b[1;33m.\u001b[0m\u001b[0m_convert_to_indexer\u001b[0m\u001b[1;33m(\u001b[0m\u001b[0mkey\u001b[0m\u001b[1;33m,\u001b[0m \u001b[0maxis\u001b[0m\u001b[1;33m=\u001b[0m\u001b[1;36m1\u001b[0m\u001b[1;33m)\u001b[0m\u001b[1;33m\u001b[0m\u001b[0m\n\u001b[0m\u001b[0;32m   2724\u001b[0m             \u001b[1;32mreturn\u001b[0m \u001b[0mself\u001b[0m\u001b[1;33m.\u001b[0m\u001b[0m_take\u001b[0m\u001b[1;33m(\u001b[0m\u001b[0mindexer\u001b[0m\u001b[1;33m,\u001b[0m \u001b[0maxis\u001b[0m\u001b[1;33m=\u001b[0m\u001b[1;36m1\u001b[0m\u001b[1;33m)\u001b[0m\u001b[1;33m\u001b[0m\u001b[0m\n\u001b[0;32m   2725\u001b[0m \u001b[1;33m\u001b[0m\u001b[0m\n",
      "\u001b[1;32mS:\\Anaconda_5.2.0\\lib\\site-packages\\pandas\\core\\indexing.py\u001b[0m in \u001b[0;36m_convert_to_indexer\u001b[1;34m(self, obj, axis, is_setter)\u001b[0m\n\u001b[0;32m   1325\u001b[0m                 \u001b[1;32mif\u001b[0m \u001b[0mmask\u001b[0m\u001b[1;33m.\u001b[0m\u001b[0many\u001b[0m\u001b[1;33m(\u001b[0m\u001b[1;33m)\u001b[0m\u001b[1;33m:\u001b[0m\u001b[1;33m\u001b[0m\u001b[0m\n\u001b[0;32m   1326\u001b[0m                     raise KeyError('{mask} not in index'\n\u001b[1;32m-> 1327\u001b[1;33m                                    .format(mask=objarr[mask]))\n\u001b[0m\u001b[0;32m   1328\u001b[0m \u001b[1;33m\u001b[0m\u001b[0m\n\u001b[0;32m   1329\u001b[0m                 \u001b[1;32mreturn\u001b[0m \u001b[0mcom\u001b[0m\u001b[1;33m.\u001b[0m\u001b[0m_values_from_object\u001b[0m\u001b[1;33m(\u001b[0m\u001b[0mindexer\u001b[0m\u001b[1;33m)\u001b[0m\u001b[1;33m\u001b[0m\u001b[0m\n",
      "\u001b[1;31mKeyError\u001b[0m: \"[(('AST',),) (('AST', 'BLK'),) (('AST', 'BLK', 'DRtg'),)\\n (('AST', 'BLK', 'DRtg', 'DWS'),) (('AST', 'BLK', 'DRtg', 'DWS', 'WS'),)] not in index\""
     ]
    }
   ],
   "source": [
    "#model selection algorithm 2\n",
    "Y = Train['SALARY']\n",
    "X = Train[Features_RMSE] #references all values in the MinRMSE dictionary\n",
    "\n",
    "Test_MSE_List = []\n",
    "Test_RMSE_List = []\n",
    "Test_Feature_Number = []\n",
    "Test_Feature_List = []\n",
    "\n",
    "Temp_Result = Test_OLS(X[list(combinations)], Y) #convert tuple to list\n",
    "MSE_List.append(Temp_Result[0])   \n",
    "RMSE_List.append(Temp_Result[1])\n",
    "Feature_Number.append(len(combinations))    \n",
    "Feature_List.append(combinations)\n",
    "    \n",
    "Testerror = pd.DataFrame({\n",
    "    'Feature Number': Feature_Number,\n",
    "    'Features': Feature_List,\n",
    "    'MSE': MSE_List,\n",
    "    'RMSE': RMSE_List,\n",
    "})\n",
    "\n",
    "Testerror.head(5)"
   ]
  },
  {
   "cell_type": "code",
   "execution_count": null,
   "metadata": {},
   "outputs": [],
   "source": [
    "from sklearn.linear_model import LinearRegression\n",
    "import numpy as np\n",
    "\n",
    "trainingData = np.array([ [2.3,4.3,2.5], [1.3,5.2,5.2], [3.3,2.9,0.8], [3.1,4.3,4.0]  ])\n",
    "trainingScores = np.array([3.4,7.5,4.5,1.6])\n",
    "\n",
    "clf = LinearRegression(fit_intercept=True)\n",
    "clf.fit(trainingData,trainingScores)\n",
    "\n",
    "predictionData = np.array([ [2.5,2.4,2.7], [2.7,3.2,1.2] ])\n",
    "clf.predict(predictionData)"
   ]
  },
  {
   "cell_type": "code",
   "execution_count": null,
   "metadata": {},
   "outputs": [],
   "source": []
  },
  {
   "cell_type": "code",
   "execution_count": null,
   "metadata": {},
   "outputs": [],
   "source": [
    "from sklearn.neighbors import KNeighborsRegressor\n",
    "from sklearn.metrics import mean_squared_error\n",
    "\n",
    "neighbours=np.arange(1, 101)\n",
    "test_rmse = []\n",
    "for k in neighbours: \n",
    "    knn = KNeighborsRegressor(n_neighbors = k) \n",
    "    knn.fit(train[['Limit']], train['Balance'])\n",
    "    predictions = knn.predict(test[['Limit']])\n",
    "    rmse = np.sqrt(mean_squared_error(test['Balance'], predictions))\n",
    "    test_rmse.append(rmse)\n",
    "\n",
    "fig, ax= plt.subplots()\n",
    "ax.plot(neighbours, test_rmse, color='#1F77B4')\n",
    "ax.set_xlabel('Number of neighbours')\n",
    "ax.set_ylabel('Test error')\n",
    "plt.show()\n",
    "\n",
    "print('Lowest test error: K = {}'.format(1 + np.argmin(test_rmse)))"
   ]
  },
  {
   "cell_type": "code",
   "execution_count": null,
   "metadata": {},
   "outputs": [],
   "source": []
  },
  {
   "cell_type": "code",
   "execution_count": null,
   "metadata": {},
   "outputs": [],
   "source": []
  },
  {
   "cell_type": "code",
   "execution_count": null,
   "metadata": {},
   "outputs": [],
   "source": []
  },
  {
   "cell_type": "code",
   "execution_count": null,
   "metadata": {},
   "outputs": [],
   "source": []
  },
  {
   "cell_type": "markdown",
   "metadata": {},
   "source": [
    "## Old Code and stuff"
   ]
  },
  {
   "cell_type": "code",
   "execution_count": null,
   "metadata": {},
   "outputs": [],
   "source": [
    "for keys, values in Bestsubset_Temp:\n",
    "    DF_MSE.append(values.min())\n",
    "    DF_RMSE.append(values.min())\n",
    "    print(values)\n",
    "    "
   ]
  },
  {
   "cell_type": "code",
   "execution_count": null,
   "metadata": {},
   "outputs": [],
   "source": [
    "for keys, values in Bestsubset_Temp:\n",
    "    DF_MSE.append(values.min())\n",
    "    DF_RMSE.append(values.min())\n",
    "    \n",
    "MinRMSE = pd.DataFrame({\n",
    "    'MSE': DF_MSE,\n",
    "    'RMSE': DF_RMSE\n",
    "})\n",
    "\n",
    "MinRMSE"
   ]
  },
  {
   "cell_type": "code",
   "execution_count": null,
   "metadata": {},
   "outputs": [],
   "source": [
    "DF_MSE = []\n",
    "DF_RMSE = []\n",
    "\n",
    "for keys, values in Bestsubset_Temp:\n",
    "    DF_MSE.append(values.min())\n",
    "    DF_RMSE.append(values.min())\n",
    "\n",
    "DF_RMSE"
   ]
  },
  {
   "cell_type": "code",
   "execution_count": null,
   "metadata": {},
   "outputs": [],
   "source": [
    "MinRMSE = pd.DataFrame({\n",
    "    'MSE': DF_MSE,\n",
    "    'RMSE': DF_RMSE\n",
    "})\n",
    "\n",
    "MinRMSE"
   ]
  },
  {
   "cell_type": "code",
   "execution_count": 86,
   "metadata": {},
   "outputs": [
    {
     "name": "stdout",
     "output_type": "stream",
     "text": [
      "['Features']\n"
     ]
    }
   ],
   "source": [
    "print(Temp_DF_1.columns.tolist())\n",
    "\n",
    "#Temp_DF_1.set_index('Feature Number')['Features'].to_dict()"
   ]
  },
  {
   "cell_type": "code",
   "execution_count": 87,
   "metadata": {
    "scrolled": true
   },
   "outputs": [
    {
     "name": "stdout",
     "output_type": "stream",
     "text": [
      "['Features', 'MSE', 'RMSE']\n"
     ]
    }
   ],
   "source": [
    "print(MinRMSE.columns.tolist())"
   ]
  }
 ],
 "metadata": {
  "celltoolbar": "Raw Cell Format",
  "kernelspec": {
   "display_name": "Python 3",
   "language": "python",
   "name": "python3"
  },
  "language_info": {
   "codemirror_mode": {
    "name": "ipython",
    "version": 3
   },
   "file_extension": ".py",
   "mimetype": "text/x-python",
   "name": "python",
   "nbconvert_exporter": "python",
   "pygments_lexer": "ipython3",
   "version": "3.6.5"
  }
 },
 "nbformat": 4,
 "nbformat_minor": 2
}
