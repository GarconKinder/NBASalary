{
 "cells": [
  {
   "cell_type": "markdown",
   "metadata": {},
   "source": [
    "# Note to reader\n",
    "\n",
    "This is V1.5 of the code for Part 2 of assignment 1 for QBUS2820\n",
    "\n",
    "Changes include:\n",
    "\n",
    "1. Manually made the prediction models with the optimal variables from model selection\n",
    "2. Calculated full learning curve"
   ]
  },
  {
   "cell_type": "markdown",
   "metadata": {},
   "source": [
    "---------------"
   ]
  },
  {
   "cell_type": "markdown",
   "metadata": {},
   "source": [
    "# Brief\n",
    "\n",
    "Find the most appropriate predictive models of your choice to predict NBA player salary from performance statistics.\n",
    "\n",
    "As a consultant working for a sports data analytics company, the NBA league approached you to develop predictive models to predict NBA salaries based on state-of-art techniques from predictive analytics. To enable this task, you were provided with a dataset containing highly detailed performance of the NBA players. The response is the SALARY($Millions) column in the dataset.\n",
    "\n",
    "As part of the contract, you need to write a report according to the details below. The client will use a test set to evaluate your work, using RSME as the scoring metric\n",
    "\n",
    "Your report must include the validation scores for at least five different sets of predictions, including your final 2 best models. You need to make a submission on Kaggle to get each validation score. You need to present your final 2 best models in details. For the other three additional methods, only brief explanations of the models are needed."
   ]
  },
  {
   "cell_type": "markdown",
   "metadata": {},
   "source": [
    "# Explanation of Acronym\n",
    "\n",
    "Glossary very helpful https://stats.nba.com/help/glossary/\n",
    "\n",
    "**PER** - Personal efficiency rating\n",
    "\n",
    "**TS** - True shooting percentage\n",
    "\n",
    "**ORB** - Offensive rebounds\n",
    "\n",
    "**DRB** - Defensive rebounds\n",
    "\n",
    "**TRB** - Total rebounds\n",
    "\n",
    "**AST** - Assists\n",
    "\n",
    "**STL** - Steals\n",
    "\n",
    "**BLK** - Blocks\n",
    "\n",
    "**TOV** - Turnover percentage (per possession)\n",
    "\n",
    "**USG** - Usage percentage\n",
    "\n",
    "**ORtg** - Offensive rating\n",
    "\n",
    "**DRtg** - Defensive rating\n",
    "\n",
    "**OWS** - Offensive win shares\n",
    "\n",
    "**DWS** - Defensive win shares\n",
    "\n",
    "**WS** - Win shares\n"
   ]
  },
  {
   "cell_type": "markdown",
   "metadata": {},
   "source": [
    "----------------"
   ]
  },
  {
   "cell_type": "markdown",
   "metadata": {},
   "source": [
    "# Table of Contents\n",
    "\n",
    "1. Relevant Packages\n",
    "2. Importing Data\n",
    "3. Variable and lists\n",
    "4. Data Cleaning\n",
    "5. Exploratory Data Analysis"
   ]
  },
  {
   "cell_type": "markdown",
   "metadata": {},
   "source": [
    "## Relevant Packages"
   ]
  },
  {
   "cell_type": "code",
   "execution_count": 1,
   "metadata": {},
   "outputs": [],
   "source": [
    "#pandas used for importing data in a dataframe that can be examined\n",
    "import pandas as pd\n",
    "\n",
    "#numpy used for preforming various calculations with dataframes\n",
    "import numpy as np\n",
    "\n",
    "#random used for random number generation\n",
    "import random as random\n",
    "\n",
    "#time used to time calculations\n",
    "import time as time\n",
    "\n",
    "#maths used for some basic mathematical calculations\n",
    "import math\n",
    "\n",
    "#itertools used for better looping functions\n",
    "import itertools\n",
    "\n",
    "#statsmodels used for statistical models like OLS\n",
    "import statsmodels.api as sm\n",
    "import statsmodels.formula.api as smf\n",
    "\n",
    "#sklearn modules used for regression\n",
    "from sklearn import linear_model\n",
    "from sklearn.metrics import mean_squared_error\n",
    "\n",
    "#matplotlib and seaborn both used for graphing data\n",
    "import matplotlib.pyplot as plt\n",
    "import seaborn as sns"
   ]
  },
  {
   "cell_type": "markdown",
   "metadata": {},
   "source": [
    "## Importing Data"
   ]
  },
  {
   "cell_type": "code",
   "execution_count": 2,
   "metadata": {},
   "outputs": [
    {
     "data": {
      "text/html": [
       "<div>\n",
       "<style scoped>\n",
       "    .dataframe tbody tr th:only-of-type {\n",
       "        vertical-align: middle;\n",
       "    }\n",
       "\n",
       "    .dataframe tbody tr th {\n",
       "        vertical-align: top;\n",
       "    }\n",
       "\n",
       "    .dataframe thead th {\n",
       "        text-align: right;\n",
       "    }\n",
       "</style>\n",
       "<table border=\"1\" class=\"dataframe\">\n",
       "  <thead>\n",
       "    <tr style=\"text-align: right;\">\n",
       "      <th></th>\n",
       "      <th>Train_ID</th>\n",
       "      <th>SALARY</th>\n",
       "      <th>POSITION</th>\n",
       "      <th>TEAM</th>\n",
       "      <th>Age</th>\n",
       "      <th>Games</th>\n",
       "      <th>Minutes</th>\n",
       "      <th>PER</th>\n",
       "      <th>TS</th>\n",
       "      <th>ORB</th>\n",
       "      <th>...</th>\n",
       "      <th>AST</th>\n",
       "      <th>STL</th>\n",
       "      <th>BLK</th>\n",
       "      <th>TOV</th>\n",
       "      <th>USG</th>\n",
       "      <th>ORtg</th>\n",
       "      <th>DRtg</th>\n",
       "      <th>OWS</th>\n",
       "      <th>DWS</th>\n",
       "      <th>WS</th>\n",
       "    </tr>\n",
       "  </thead>\n",
       "  <tbody>\n",
       "    <tr>\n",
       "      <th>0</th>\n",
       "      <td>1</td>\n",
       "      <td>2.288205</td>\n",
       "      <td>SG</td>\n",
       "      <td>Orlando Magic</td>\n",
       "      <td>21</td>\n",
       "      <td>76</td>\n",
       "      <td>1503</td>\n",
       "      <td>10.3</td>\n",
       "      <td>0.533</td>\n",
       "      <td>2.4</td>\n",
       "      <td>...</td>\n",
       "      <td>11.6</td>\n",
       "      <td>1.1</td>\n",
       "      <td>0.3</td>\n",
       "      <td>14.3</td>\n",
       "      <td>19.7</td>\n",
       "      <td>101</td>\n",
       "      <td>111</td>\n",
       "      <td>0.6</td>\n",
       "      <td>0.8</td>\n",
       "      <td>1.4</td>\n",
       "    </tr>\n",
       "    <tr>\n",
       "      <th>1</th>\n",
       "      <td>2</td>\n",
       "      <td>2.139000</td>\n",
       "      <td>PG</td>\n",
       "      <td>Washington Wizards</td>\n",
       "      <td>29</td>\n",
       "      <td>52</td>\n",
       "      <td>1114</td>\n",
       "      <td>12.5</td>\n",
       "      <td>0.530</td>\n",
       "      <td>1.0</td>\n",
       "      <td>...</td>\n",
       "      <td>13.0</td>\n",
       "      <td>0.8</td>\n",
       "      <td>0.0</td>\n",
       "      <td>11.0</td>\n",
       "      <td>23.8</td>\n",
       "      <td>102</td>\n",
       "      <td>113</td>\n",
       "      <td>0.6</td>\n",
       "      <td>0.3</td>\n",
       "      <td>1.0</td>\n",
       "    </tr>\n",
       "    <tr>\n",
       "      <th>2</th>\n",
       "      <td>3</td>\n",
       "      <td>8.000000</td>\n",
       "      <td>SG</td>\n",
       "      <td>New York Knicks</td>\n",
       "      <td>28</td>\n",
       "      <td>73</td>\n",
       "      <td>2552</td>\n",
       "      <td>16.0</td>\n",
       "      <td>0.574</td>\n",
       "      <td>1.4</td>\n",
       "      <td>...</td>\n",
       "      <td>16.9</td>\n",
       "      <td>0.7</td>\n",
       "      <td>0.1</td>\n",
       "      <td>11.2</td>\n",
       "      <td>23.3</td>\n",
       "      <td>110</td>\n",
       "      <td>112</td>\n",
       "      <td>4.3</td>\n",
       "      <td>1.0</td>\n",
       "      <td>5.3</td>\n",
       "    </tr>\n",
       "    <tr>\n",
       "      <th>3</th>\n",
       "      <td>4</td>\n",
       "      <td>5.158539</td>\n",
       "      <td>SG</td>\n",
       "      <td>Memphis Grizzlies</td>\n",
       "      <td>32</td>\n",
       "      <td>55</td>\n",
       "      <td>1278</td>\n",
       "      <td>15.6</td>\n",
       "      <td>0.531</td>\n",
       "      <td>7.3</td>\n",
       "      <td>...</td>\n",
       "      <td>11.7</td>\n",
       "      <td>3.8</td>\n",
       "      <td>1.2</td>\n",
       "      <td>16.2</td>\n",
       "      <td>20.1</td>\n",
       "      <td>102</td>\n",
       "      <td>101</td>\n",
       "      <td>0.5</td>\n",
       "      <td>2.1</td>\n",
       "      <td>2.7</td>\n",
       "    </tr>\n",
       "    <tr>\n",
       "      <th>4</th>\n",
       "      <td>5</td>\n",
       "      <td>3.333333</td>\n",
       "      <td>PF</td>\n",
       "      <td>Atlanta Hawks</td>\n",
       "      <td>25</td>\n",
       "      <td>80</td>\n",
       "      <td>1482</td>\n",
       "      <td>15.3</td>\n",
       "      <td>0.559</td>\n",
       "      <td>4.9</td>\n",
       "      <td>...</td>\n",
       "      <td>8.9</td>\n",
       "      <td>1.0</td>\n",
       "      <td>0.4</td>\n",
       "      <td>10.3</td>\n",
       "      <td>23.5</td>\n",
       "      <td>105</td>\n",
       "      <td>108</td>\n",
       "      <td>1.3</td>\n",
       "      <td>1.2</td>\n",
       "      <td>2.6</td>\n",
       "    </tr>\n",
       "  </tbody>\n",
       "</table>\n",
       "<p>5 rows × 22 columns</p>\n",
       "</div>"
      ],
      "text/plain": [
       "   Train_ID    SALARY POSITION                TEAM  Age  Games  Minutes   PER  \\\n",
       "0         1  2.288205       SG       Orlando Magic   21     76     1503  10.3   \n",
       "1         2  2.139000       PG  Washington Wizards   29     52     1114  12.5   \n",
       "2         3  8.000000       SG     New York Knicks   28     73     2552  16.0   \n",
       "3         4  5.158539       SG   Memphis Grizzlies   32     55     1278  15.6   \n",
       "4         5  3.333333       PF       Atlanta Hawks   25     80     1482  15.3   \n",
       "\n",
       "      TS  ORB ...    AST  STL  BLK   TOV   USG  ORtg  DRtg  OWS  DWS   WS  \n",
       "0  0.533  2.4 ...   11.6  1.1  0.3  14.3  19.7   101   111  0.6  0.8  1.4  \n",
       "1  0.530  1.0 ...   13.0  0.8  0.0  11.0  23.8   102   113  0.6  0.3  1.0  \n",
       "2  0.574  1.4 ...   16.9  0.7  0.1  11.2  23.3   110   112  4.3  1.0  5.3  \n",
       "3  0.531  7.3 ...   11.7  3.8  1.2  16.2  20.1   102   101  0.5  2.1  2.7  \n",
       "4  0.559  4.9 ...    8.9  1.0  0.4  10.3  23.5   105   108  1.3  1.2  2.6  \n",
       "\n",
       "[5 rows x 22 columns]"
      ]
     },
     "execution_count": 2,
     "metadata": {},
     "output_type": "execute_result"
    }
   ],
   "source": [
    "#read_csv is used for .csv\n",
    "Raw_Train = pd.read_csv('p2_train.csv') \n",
    "\n",
    "Raw_Train.head(5) #note that the ... column is not shown for space saving reasons"
   ]
  },
  {
   "cell_type": "code",
   "execution_count": 3,
   "metadata": {},
   "outputs": [
    {
     "data": {
      "text/html": [
       "<div>\n",
       "<style scoped>\n",
       "    .dataframe tbody tr th:only-of-type {\n",
       "        vertical-align: middle;\n",
       "    }\n",
       "\n",
       "    .dataframe tbody tr th {\n",
       "        vertical-align: top;\n",
       "    }\n",
       "\n",
       "    .dataframe thead th {\n",
       "        text-align: right;\n",
       "    }\n",
       "</style>\n",
       "<table border=\"1\" class=\"dataframe\">\n",
       "  <thead>\n",
       "    <tr style=\"text-align: right;\">\n",
       "      <th></th>\n",
       "      <th>Id</th>\n",
       "      <th>POSITION</th>\n",
       "      <th>TEAM</th>\n",
       "      <th>Age</th>\n",
       "      <th>Games</th>\n",
       "      <th>Minutes</th>\n",
       "      <th>PER</th>\n",
       "      <th>TS</th>\n",
       "      <th>ORB</th>\n",
       "      <th>DRB</th>\n",
       "      <th>...</th>\n",
       "      <th>AST</th>\n",
       "      <th>STL</th>\n",
       "      <th>BLK</th>\n",
       "      <th>TOV</th>\n",
       "      <th>USG</th>\n",
       "      <th>ORtg</th>\n",
       "      <th>DRtg</th>\n",
       "      <th>OWS</th>\n",
       "      <th>DWS</th>\n",
       "      <th>WS</th>\n",
       "    </tr>\n",
       "  </thead>\n",
       "  <tbody>\n",
       "    <tr>\n",
       "      <th>122</th>\n",
       "      <td>123</td>\n",
       "      <td>PF</td>\n",
       "      <td>Atlanta Hawks</td>\n",
       "      <td>28</td>\n",
       "      <td>74</td>\n",
       "      <td>2482</td>\n",
       "      <td>19.8</td>\n",
       "      <td>0.545</td>\n",
       "      <td>7.2</td>\n",
       "      <td>21.9</td>\n",
       "      <td>...</td>\n",
       "      <td>16.2</td>\n",
       "      <td>2.6</td>\n",
       "      <td>2.5</td>\n",
       "      <td>13.2</td>\n",
       "      <td>25.7</td>\n",
       "      <td>105</td>\n",
       "      <td>102</td>\n",
       "      <td>2.7</td>\n",
       "      <td>4.0</td>\n",
       "      <td>6.7</td>\n",
       "    </tr>\n",
       "    <tr>\n",
       "      <th>123</th>\n",
       "      <td>124</td>\n",
       "      <td>PF</td>\n",
       "      <td>Portland Trail Blazers</td>\n",
       "      <td>21</td>\n",
       "      <td>40</td>\n",
       "      <td>355</td>\n",
       "      <td>9.4</td>\n",
       "      <td>0.489</td>\n",
       "      <td>8.0</td>\n",
       "      <td>25.5</td>\n",
       "      <td>...</td>\n",
       "      <td>7.3</td>\n",
       "      <td>1.0</td>\n",
       "      <td>1.0</td>\n",
       "      <td>13.0</td>\n",
       "      <td>14.2</td>\n",
       "      <td>104</td>\n",
       "      <td>105</td>\n",
       "      <td>0.2</td>\n",
       "      <td>0.5</td>\n",
       "      <td>0.6</td>\n",
       "    </tr>\n",
       "    <tr>\n",
       "      <th>124</th>\n",
       "      <td>125</td>\n",
       "      <td>SF</td>\n",
       "      <td>Atlanta Hawks</td>\n",
       "      <td>24</td>\n",
       "      <td>67</td>\n",
       "      <td>911</td>\n",
       "      <td>11.2</td>\n",
       "      <td>0.515</td>\n",
       "      <td>1.2</td>\n",
       "      <td>12.6</td>\n",
       "      <td>...</td>\n",
       "      <td>15.7</td>\n",
       "      <td>2.3</td>\n",
       "      <td>1.0</td>\n",
       "      <td>16.8</td>\n",
       "      <td>22.6</td>\n",
       "      <td>93</td>\n",
       "      <td>108</td>\n",
       "      <td>-0.6</td>\n",
       "      <td>0.8</td>\n",
       "      <td>0.2</td>\n",
       "    </tr>\n",
       "    <tr>\n",
       "      <th>125</th>\n",
       "      <td>126</td>\n",
       "      <td>SF</td>\n",
       "      <td>Denver Nuggets</td>\n",
       "      <td>23</td>\n",
       "      <td>41</td>\n",
       "      <td>387</td>\n",
       "      <td>13.5</td>\n",
       "      <td>0.488</td>\n",
       "      <td>4.5</td>\n",
       "      <td>16.0</td>\n",
       "      <td>...</td>\n",
       "      <td>13.3</td>\n",
       "      <td>1.2</td>\n",
       "      <td>1.3</td>\n",
       "      <td>9.6</td>\n",
       "      <td>21.2</td>\n",
       "      <td>103</td>\n",
       "      <td>107</td>\n",
       "      <td>0.3</td>\n",
       "      <td>0.4</td>\n",
       "      <td>0.6</td>\n",
       "    </tr>\n",
       "    <tr>\n",
       "      <th>126</th>\n",
       "      <td>127</td>\n",
       "      <td>SF</td>\n",
       "      <td>Memphis Grizzlies</td>\n",
       "      <td>33</td>\n",
       "      <td>63</td>\n",
       "      <td>1735</td>\n",
       "      <td>12.0</td>\n",
       "      <td>0.552</td>\n",
       "      <td>4.0</td>\n",
       "      <td>14.4</td>\n",
       "      <td>...</td>\n",
       "      <td>10.6</td>\n",
       "      <td>1.6</td>\n",
       "      <td>1.2</td>\n",
       "      <td>13.0</td>\n",
       "      <td>16.6</td>\n",
       "      <td>107</td>\n",
       "      <td>106</td>\n",
       "      <td>1.5</td>\n",
       "      <td>2.0</td>\n",
       "      <td>3.5</td>\n",
       "    </tr>\n",
       "  </tbody>\n",
       "</table>\n",
       "<p>5 rows × 21 columns</p>\n",
       "</div>"
      ],
      "text/plain": [
       "      Id POSITION                    TEAM  Age  Games  Minutes   PER     TS  \\\n",
       "122  123       PF           Atlanta Hawks   28     74     2482  19.8  0.545   \n",
       "123  124       PF  Portland Trail Blazers   21     40      355   9.4  0.489   \n",
       "124  125       SF           Atlanta Hawks   24     67      911  11.2  0.515   \n",
       "125  126       SF          Denver Nuggets   23     41      387  13.5  0.488   \n",
       "126  127       SF       Memphis Grizzlies   33     63     1735  12.0  0.552   \n",
       "\n",
       "     ORB   DRB ...    AST  STL  BLK   TOV   USG  ORtg  DRtg  OWS  DWS   WS  \n",
       "122  7.2  21.9 ...   16.2  2.6  2.5  13.2  25.7   105   102  2.7  4.0  6.7  \n",
       "123  8.0  25.5 ...    7.3  1.0  1.0  13.0  14.2   104   105  0.2  0.5  0.6  \n",
       "124  1.2  12.6 ...   15.7  2.3  1.0  16.8  22.6    93   108 -0.6  0.8  0.2  \n",
       "125  4.5  16.0 ...   13.3  1.2  1.3   9.6  21.2   103   107  0.3  0.4  0.6  \n",
       "126  4.0  14.4 ...   10.6  1.6  1.2  13.0  16.6   107   106  1.5  2.0  3.5  \n",
       "\n",
       "[5 rows x 21 columns]"
      ]
     },
     "execution_count": 3,
     "metadata": {},
     "output_type": "execute_result"
    }
   ],
   "source": [
    "Raw_Test = pd.read_csv('p2_test.csv')\n",
    "\n",
    "Raw_Test.tail(5)"
   ]
  },
  {
   "cell_type": "markdown",
   "metadata": {},
   "source": [
    "## Data Cleaning"
   ]
  },
  {
   "cell_type": "code",
   "execution_count": 4,
   "metadata": {
    "scrolled": true
   },
   "outputs": [
    {
     "data": {
      "text/html": [
       "<div>\n",
       "<style scoped>\n",
       "    .dataframe tbody tr th:only-of-type {\n",
       "        vertical-align: middle;\n",
       "    }\n",
       "\n",
       "    .dataframe tbody tr th {\n",
       "        vertical-align: top;\n",
       "    }\n",
       "\n",
       "    .dataframe thead th {\n",
       "        text-align: right;\n",
       "    }\n",
       "</style>\n",
       "<table border=\"1\" class=\"dataframe\">\n",
       "  <thead>\n",
       "    <tr style=\"text-align: right;\">\n",
       "      <th></th>\n",
       "      <th>key_0</th>\n",
       "      <th>Train_ID</th>\n",
       "      <th>SALARY</th>\n",
       "      <th>POSITION</th>\n",
       "      <th>TEAM</th>\n",
       "      <th>Age</th>\n",
       "      <th>Games</th>\n",
       "      <th>Minutes</th>\n",
       "      <th>PER</th>\n",
       "      <th>TS</th>\n",
       "      <th>...</th>\n",
       "      <th>Dum_Oklahoma City Thunder</th>\n",
       "      <th>Dum_Orlando Magic</th>\n",
       "      <th>Dum_Philadelphia 76ers</th>\n",
       "      <th>Dum_Phoenix Suns</th>\n",
       "      <th>Dum_Portland Trail Blazers</th>\n",
       "      <th>Dum_Sacramento Kings</th>\n",
       "      <th>Dum_San Antonio Spurs</th>\n",
       "      <th>Dum_Toronto Raptors</th>\n",
       "      <th>Dum_Utah Jazz</th>\n",
       "      <th>Dum_Washington Wizards</th>\n",
       "    </tr>\n",
       "  </thead>\n",
       "  <tbody>\n",
       "    <tr>\n",
       "      <th>122</th>\n",
       "      <td>123</td>\n",
       "      <td>123</td>\n",
       "      <td>4.389607</td>\n",
       "      <td>C</td>\n",
       "      <td>New Orleans Pelicans</td>\n",
       "      <td>25</td>\n",
       "      <td>56</td>\n",
       "      <td>951</td>\n",
       "      <td>14.6</td>\n",
       "      <td>0.589</td>\n",
       "      <td>...</td>\n",
       "      <td>0</td>\n",
       "      <td>0</td>\n",
       "      <td>0</td>\n",
       "      <td>0</td>\n",
       "      <td>0</td>\n",
       "      <td>0</td>\n",
       "      <td>0</td>\n",
       "      <td>0</td>\n",
       "      <td>0</td>\n",
       "      <td>0</td>\n",
       "    </tr>\n",
       "    <tr>\n",
       "      <th>123</th>\n",
       "      <td>124</td>\n",
       "      <td>124</td>\n",
       "      <td>8.500000</td>\n",
       "      <td>PF</td>\n",
       "      <td>Minnesota Timberwolves</td>\n",
       "      <td>37</td>\n",
       "      <td>54</td>\n",
       "      <td>1109</td>\n",
       "      <td>13.3</td>\n",
       "      <td>0.467</td>\n",
       "      <td>...</td>\n",
       "      <td>0</td>\n",
       "      <td>0</td>\n",
       "      <td>0</td>\n",
       "      <td>0</td>\n",
       "      <td>0</td>\n",
       "      <td>0</td>\n",
       "      <td>0</td>\n",
       "      <td>0</td>\n",
       "      <td>0</td>\n",
       "      <td>0</td>\n",
       "    </tr>\n",
       "    <tr>\n",
       "      <th>124</th>\n",
       "      <td>125</td>\n",
       "      <td>125</td>\n",
       "      <td>4.300000</td>\n",
       "      <td>PG</td>\n",
       "      <td>Memphis Grizzlies</td>\n",
       "      <td>27</td>\n",
       "      <td>73</td>\n",
       "      <td>2178</td>\n",
       "      <td>14.0</td>\n",
       "      <td>0.567</td>\n",
       "      <td>...</td>\n",
       "      <td>0</td>\n",
       "      <td>0</td>\n",
       "      <td>0</td>\n",
       "      <td>0</td>\n",
       "      <td>0</td>\n",
       "      <td>0</td>\n",
       "      <td>0</td>\n",
       "      <td>0</td>\n",
       "      <td>0</td>\n",
       "      <td>0</td>\n",
       "    </tr>\n",
       "    <tr>\n",
       "      <th>125</th>\n",
       "      <td>126</td>\n",
       "      <td>126</td>\n",
       "      <td>1.015421</td>\n",
       "      <td>SG</td>\n",
       "      <td>Los Angeles Clippers</td>\n",
       "      <td>23</td>\n",
       "      <td>60</td>\n",
       "      <td>1019</td>\n",
       "      <td>12.7</td>\n",
       "      <td>0.507</td>\n",
       "      <td>...</td>\n",
       "      <td>0</td>\n",
       "      <td>0</td>\n",
       "      <td>0</td>\n",
       "      <td>0</td>\n",
       "      <td>0</td>\n",
       "      <td>0</td>\n",
       "      <td>0</td>\n",
       "      <td>0</td>\n",
       "      <td>0</td>\n",
       "      <td>0</td>\n",
       "    </tr>\n",
       "    <tr>\n",
       "      <th>126</th>\n",
       "      <td>127</td>\n",
       "      <td>127</td>\n",
       "      <td>13.500000</td>\n",
       "      <td>PG</td>\n",
       "      <td>Phoenix Suns</td>\n",
       "      <td>24</td>\n",
       "      <td>43</td>\n",
       "      <td>1416</td>\n",
       "      <td>19.6</td>\n",
       "      <td>0.578</td>\n",
       "      <td>...</td>\n",
       "      <td>0</td>\n",
       "      <td>0</td>\n",
       "      <td>0</td>\n",
       "      <td>1</td>\n",
       "      <td>0</td>\n",
       "      <td>0</td>\n",
       "      <td>0</td>\n",
       "      <td>0</td>\n",
       "      <td>0</td>\n",
       "      <td>0</td>\n",
       "    </tr>\n",
       "  </tbody>\n",
       "</table>\n",
       "<p>5 rows × 53 columns</p>\n",
       "</div>"
      ],
      "text/plain": [
       "     key_0  Train_ID     SALARY POSITION                    TEAM  Age  Games  \\\n",
       "122    123       123   4.389607        C    New Orleans Pelicans   25     56   \n",
       "123    124       124   8.500000       PF  Minnesota Timberwolves   37     54   \n",
       "124    125       125   4.300000       PG       Memphis Grizzlies   27     73   \n",
       "125    126       126   1.015421       SG    Los Angeles Clippers   23     60   \n",
       "126    127       127  13.500000       PG            Phoenix Suns   24     43   \n",
       "\n",
       "     Minutes   PER     TS           ...            Dum_Oklahoma City Thunder  \\\n",
       "122      951  14.6  0.589           ...                                    0   \n",
       "123     1109  13.3  0.467           ...                                    0   \n",
       "124     2178  14.0  0.567           ...                                    0   \n",
       "125     1019  12.7  0.507           ...                                    0   \n",
       "126     1416  19.6  0.578           ...                                    0   \n",
       "\n",
       "     Dum_Orlando Magic  Dum_Philadelphia 76ers  Dum_Phoenix Suns  \\\n",
       "122                  0                       0                 0   \n",
       "123                  0                       0                 0   \n",
       "124                  0                       0                 0   \n",
       "125                  0                       0                 0   \n",
       "126                  0                       0                 1   \n",
       "\n",
       "     Dum_Portland Trail Blazers  Dum_Sacramento Kings  Dum_San Antonio Spurs  \\\n",
       "122                           0                     0                      0   \n",
       "123                           0                     0                      0   \n",
       "124                           0                     0                      0   \n",
       "125                           0                     0                      0   \n",
       "126                           0                     0                      0   \n",
       "\n",
       "     Dum_Toronto Raptors  Dum_Utah Jazz  Dum_Washington Wizards  \n",
       "122                    0              0                       0  \n",
       "123                    0              0                       0  \n",
       "124                    0              0                       0  \n",
       "125                    0              0                       0  \n",
       "126                    0              0                       0  \n",
       "\n",
       "[5 rows x 53 columns]"
      ]
     },
     "execution_count": 4,
     "metadata": {},
     "output_type": "execute_result"
    }
   ],
   "source": [
    "#creating dummmy variables for TEAM and POSITION\n",
    "DumTEAM_Train = pd.get_dummies(Raw_Train.TEAM, prefix= 'Dum')\n",
    "DumPOS_Train = pd.get_dummies(Raw_Train.POSITION, prefix= 'Dum')\n",
    "\n",
    "Temp_Train_1 = pd.merge(Raw_Train, DumPOS_Train, on= Raw_Train['Train_ID'])\n",
    "Temp_Train_2 = pd.merge(Raw_Train, DumTEAM_Train, on= Raw_Train['Train_ID'])\n",
    "\n",
    "Temp_Train = Temp_Train_2\n",
    "\n",
    "Temp_Train.tail(5)"
   ]
  },
  {
   "cell_type": "code",
   "execution_count": 5,
   "metadata": {},
   "outputs": [
    {
     "name": "stdout",
     "output_type": "stream",
     "text": [
      "Good to go!\n"
     ]
    }
   ],
   "source": [
    "#checking for empty cells\n",
    "if Temp_Train.empty:\n",
    "    print('DataFrame is empty!')\n",
    "else:\n",
    "    print('Good to go!')"
   ]
  },
  {
   "cell_type": "code",
   "execution_count": 6,
   "metadata": {},
   "outputs": [
    {
     "name": "stdout",
     "output_type": "stream",
     "text": [
      "Good to go!\n"
     ]
    }
   ],
   "source": [
    "#checking for NaN values\n",
    "if Temp_Train.isnull().any().any():\n",
    "    NaN_Sum = Raw_Train.isnull().sum().sum() \n",
    "    print('Dataframe has NaN values:', NaN_Sum)\n",
    "else:\n",
    "    print('Good to go!')"
   ]
  },
  {
   "cell_type": "code",
   "execution_count": 7,
   "metadata": {},
   "outputs": [
    {
     "name": "stdout",
     "output_type": "stream",
     "text": [
      "Good to go!\n"
     ]
    }
   ],
   "source": [
    "#checking for empty cells\n",
    "if Raw_Test.empty:\n",
    "    print('DataFrame is empty!')\n",
    "else:\n",
    "    print('Good to go!')"
   ]
  },
  {
   "cell_type": "code",
   "execution_count": 8,
   "metadata": {},
   "outputs": [
    {
     "name": "stdout",
     "output_type": "stream",
     "text": [
      "Good to go!\n"
     ]
    }
   ],
   "source": [
    "#checking for NaN values\n",
    "if Raw_Test.isnull().any().any():\n",
    "    NaN_Sum = Raw_Train.isnull().sum().sum() \n",
    "    print('Dataframe has NaN values:', NaN_Sum)\n",
    "else:\n",
    "    print('Good to go!')"
   ]
  },
  {
   "cell_type": "markdown",
   "metadata": {},
   "source": [
    "### Notes\n",
    "\n",
    "There are no empty or incorrect observations/cells so we can begin with our EDA. Data cleaning is not necessary as the data seems to be of acceptable quality\n",
    "\n",
    "\n",
    "Moreover, no changes to the names or values of observations were made"
   ]
  },
  {
   "cell_type": "code",
   "execution_count": 9,
   "metadata": {},
   "outputs": [],
   "source": [
    "Train = Raw_Train"
   ]
  },
  {
   "cell_type": "code",
   "execution_count": 10,
   "metadata": {},
   "outputs": [],
   "source": [
    "Test = Raw_Test"
   ]
  },
  {
   "cell_type": "markdown",
   "metadata": {},
   "source": [
    "## Variables and List\n",
    "\n",
    "Created some variables and list to prepare for subsequent coding. Probably not best method to place it here but meh. Open to suggestions"
   ]
  },
  {
   "cell_type": "code",
   "execution_count": 11,
   "metadata": {},
   "outputs": [],
   "source": [
    "#use this list for big functions\n",
    "Allvariables = [\n",
    "    'SALARY',\n",
    "    'POSITION',\n",
    "    'TEAM',\n",
    "    'Age',\n",
    "    'Games',\n",
    "    'Minutes',\n",
    "    'PER',\n",
    "    'TS',\n",
    "    'ORB',\n",
    "    'DRB',\n",
    "    'TRB',\n",
    "    'AST',\n",
    "    'STL',\n",
    "    'BLK',\n",
    "    'TOV',\n",
    "    'USG',\n",
    "    'ORtg',\n",
    "    'DRtg',\n",
    "    'OWS',\n",
    "    'DWS',\n",
    "    'WS',\n",
    "]\n",
    "\n",
    "#Is all variables except salary and categorical variables\n",
    "Allintegervar = [\n",
    "    'Age',\n",
    "    'Games',\n",
    "    'Minutes',\n",
    "    'PER',\n",
    "    'TS',\n",
    "    'ORB',\n",
    "    'DRB',\n",
    "    'TRB',\n",
    "    'AST',\n",
    "    'STL',\n",
    "    'BLK',\n",
    "    'TOV',\n",
    "    'USG',\n",
    "    'ORtg',\n",
    "    'DRtg',\n",
    "    'OWS',\n",
    "    'DWS',\n",
    "    'WS',    \n",
    "]"
   ]
  },
  {
   "cell_type": "markdown",
   "metadata": {},
   "source": [
    "## Exploratory Data Analysis\n",
    "\n",
    "Need to make sure our data is acceptable for OLS regression and KNN. We are testing for the 5+1 assumptions in OLS\n",
    "\n",
    "1. Regression model is linear in parameters\n",
    "There should be no non-linear variables. We only have integer or % values. \n",
    "\n",
    "2. Random sampling of observations, (iid)\n",
    "We can assume yes as the data was given to us and it appears to be randomly taken from basketball teams\n",
    "\n",
    "3. Homoscedastic residuals or equal variance of residuals\n",
    "Use a plot of residuals to check when model is made\n",
    "\n",
    "4. Conditional mean of error terms is 0\n",
    "No relationship between error and X\n",
    "\n",
    "5. No multi-collinearity\n",
    "Need to be careful of overall rating = defensive + offensive rating\n",
    "\n",
    "6. Error terms are normally distributed\n",
    "Use a plot of errors to check when model is made"
   ]
  },
  {
   "cell_type": "markdown",
   "metadata": {},
   "source": [
    "### Scatterplot Matrix\n",
    "\n",
    "Download the image to see it properly. Check the discord for the jpeg format because you may open the png copy which removes the white background"
   ]
  },
  {
   "cell_type": "code",
   "execution_count": 12,
   "metadata": {},
   "outputs": [],
   "source": [
    "#Scatterplot_Matrix_1 = sns.pairplot(Train[Allintegervar ], \n",
    "#                                    kind= 'reg', \n",
    "#                                    plot_kws = {'scatter_kws' :{'color': sns.color_palette('Blues')[-1],\n",
    "#                                    'alpha': 0.4}})\n",
    "\n",
    "#plt.tight_layout()\n",
    "#plt.show()"
   ]
  },
  {
   "cell_type": "markdown",
   "metadata": {},
   "source": [
    "### Graphs for the response variable (SALARY)\n",
    "\n",
    "The boxplot shows an alright distribution for salary. We expect to have some high salary for star players. Furthermore, the pattern plot shows no obvious pattern so we can say no other variable is affecting salary.\n",
    "\n",
    "If we do create a OLS model, we could use a log model to nullify the outliers"
   ]
  },
  {
   "cell_type": "code",
   "execution_count": 13,
   "metadata": {},
   "outputs": [
    {
     "data": {
      "image/png": "[encoded data removed]",
      "text/plain": [
       "<Figure size 432x288 with 1 Axes>"
      ]
     },
     "metadata": {},
     "output_type": "display_data"
    }
   ],
   "source": [
    "#boxplot\n",
    "Boxplot_Salary = sns.boxplot(x= Train['SALARY'], data= Train, palette='Blues', showmeans=True)\n",
    "\n",
    "plt.title('Boxplot for Salary')\n",
    "\n",
    "plt.show()"
   ]
  },
  {
   "cell_type": "code",
   "execution_count": 14,
   "metadata": {},
   "outputs": [
    {
     "data": {
      "image/png": "[encoded data removed]",
      "text/plain": [
       "<Figure size 432x288 with 1 Axes>"
      ]
     },
     "metadata": {},
     "output_type": "display_data"
    }
   ],
   "source": [
    "#patternplot\n",
    "Train['SALARY'].plot()\n",
    "\n",
    "plt.title('Scatterplot for salary and observation number')\n",
    "plt.xlabel('observation number')\n",
    "plt.ylabel('salary')\n",
    "\n",
    "plt.show()"
   ]
  },
  {
   "cell_type": "code",
   "execution_count": 15,
   "metadata": {},
   "outputs": [
    {
     "data": {
      "image/png": "[encoded data removed]",
      "text/plain": [
       "<Figure size 432x288 with 2 Axes>"
      ]
     },
     "metadata": {},
     "output_type": "display_data"
    }
   ],
   "source": [
    "Heatmap_Matrix_1 = sns.heatmap(Train[Allvariables].corr(), \n",
    "            vmax= 1, \n",
    "            vmin= -1, \n",
    "            center= 0,\n",
    "            square= True,\n",
    "            linewidths=1,\n",
    "            annot= False,\n",
    "            #ax= Heatmap_Matrix_1,\n",
    "            cmap= 'YlGnBu')\n",
    "\n",
    "Heatmap_Matrix_1.set_title(' Correlation Heatmap Matrix for all variables', fontweight= 'bold', fontsize= 13)\n",
    "\n",
    "plt.show()"
   ]
  },
  {
   "cell_type": "markdown",
   "metadata": {},
   "source": [
    "## Exploratory Data Analysis for Dummies\n",
    "\n",
    "Wrote a seperate part here to check dummies.\n",
    "\n",
    "In short, there aren't enough values in the dummies for adequate analysis. Need to clean this bit up with for loops and other pandas functions: https://stackoverflow.com/questions/46431243/pandas-dataframe-groupby-how-to-get-sum-of-multiple-columns"
   ]
  },
  {
   "cell_type": "code",
   "execution_count": 16,
   "metadata": {
    "scrolled": false
   },
   "outputs": [
    {
     "data": {
      "text/html": [
       "<div>\n",
       "<style scoped>\n",
       "    .dataframe tbody tr th:only-of-type {\n",
       "        vertical-align: middle;\n",
       "    }\n",
       "\n",
       "    .dataframe tbody tr th {\n",
       "        vertical-align: top;\n",
       "    }\n",
       "\n",
       "    .dataframe thead th {\n",
       "        text-align: right;\n",
       "    }\n",
       "</style>\n",
       "<table border=\"1\" class=\"dataframe\">\n",
       "  <thead>\n",
       "    <tr style=\"text-align: right;\">\n",
       "      <th></th>\n",
       "      <th>Dum_Atlanta Hawks</th>\n",
       "      <th>Dum_Boston Celtics</th>\n",
       "      <th>Dum_Brooklyn Nets</th>\n",
       "      <th>Dum_Charlotte Hornets</th>\n",
       "      <th>Dum_Chicago Bulls</th>\n",
       "      <th>Dum_Cleveland Cavaliers</th>\n",
       "      <th>Dum_Dallas Mavericks</th>\n",
       "      <th>Dum_Denver Nuggets</th>\n",
       "      <th>Dum_Detroit Pistons</th>\n",
       "      <th>Dum_Golden State Warriors</th>\n",
       "      <th>...</th>\n",
       "      <th>Dum_Oklahoma City Thunder</th>\n",
       "      <th>Dum_Orlando Magic</th>\n",
       "      <th>Dum_Philadelphia 76ers</th>\n",
       "      <th>Dum_Phoenix Suns</th>\n",
       "      <th>Dum_Portland Trail Blazers</th>\n",
       "      <th>Dum_Sacramento Kings</th>\n",
       "      <th>Dum_San Antonio Spurs</th>\n",
       "      <th>Dum_Toronto Raptors</th>\n",
       "      <th>Dum_Utah Jazz</th>\n",
       "      <th>Dum_Washington Wizards</th>\n",
       "    </tr>\n",
       "  </thead>\n",
       "  <tbody>\n",
       "    <tr>\n",
       "      <th>0</th>\n",
       "      <td>0</td>\n",
       "      <td>0</td>\n",
       "      <td>0</td>\n",
       "      <td>0</td>\n",
       "      <td>0</td>\n",
       "      <td>0</td>\n",
       "      <td>0</td>\n",
       "      <td>0</td>\n",
       "      <td>0</td>\n",
       "      <td>0</td>\n",
       "      <td>...</td>\n",
       "      <td>0</td>\n",
       "      <td>1</td>\n",
       "      <td>0</td>\n",
       "      <td>0</td>\n",
       "      <td>0</td>\n",
       "      <td>0</td>\n",
       "      <td>0</td>\n",
       "      <td>0</td>\n",
       "      <td>0</td>\n",
       "      <td>0</td>\n",
       "    </tr>\n",
       "    <tr>\n",
       "      <th>1</th>\n",
       "      <td>0</td>\n",
       "      <td>0</td>\n",
       "      <td>0</td>\n",
       "      <td>0</td>\n",
       "      <td>0</td>\n",
       "      <td>0</td>\n",
       "      <td>0</td>\n",
       "      <td>0</td>\n",
       "      <td>0</td>\n",
       "      <td>0</td>\n",
       "      <td>...</td>\n",
       "      <td>0</td>\n",
       "      <td>0</td>\n",
       "      <td>0</td>\n",
       "      <td>0</td>\n",
       "      <td>0</td>\n",
       "      <td>0</td>\n",
       "      <td>0</td>\n",
       "      <td>0</td>\n",
       "      <td>0</td>\n",
       "      <td>1</td>\n",
       "    </tr>\n",
       "    <tr>\n",
       "      <th>2</th>\n",
       "      <td>0</td>\n",
       "      <td>0</td>\n",
       "      <td>0</td>\n",
       "      <td>0</td>\n",
       "      <td>0</td>\n",
       "      <td>0</td>\n",
       "      <td>0</td>\n",
       "      <td>0</td>\n",
       "      <td>0</td>\n",
       "      <td>0</td>\n",
       "      <td>...</td>\n",
       "      <td>0</td>\n",
       "      <td>0</td>\n",
       "      <td>0</td>\n",
       "      <td>0</td>\n",
       "      <td>0</td>\n",
       "      <td>0</td>\n",
       "      <td>0</td>\n",
       "      <td>0</td>\n",
       "      <td>0</td>\n",
       "      <td>0</td>\n",
       "    </tr>\n",
       "    <tr>\n",
       "      <th>3</th>\n",
       "      <td>0</td>\n",
       "      <td>0</td>\n",
       "      <td>0</td>\n",
       "      <td>0</td>\n",
       "      <td>0</td>\n",
       "      <td>0</td>\n",
       "      <td>0</td>\n",
       "      <td>0</td>\n",
       "      <td>0</td>\n",
       "      <td>0</td>\n",
       "      <td>...</td>\n",
       "      <td>0</td>\n",
       "      <td>0</td>\n",
       "      <td>0</td>\n",
       "      <td>0</td>\n",
       "      <td>0</td>\n",
       "      <td>0</td>\n",
       "      <td>0</td>\n",
       "      <td>0</td>\n",
       "      <td>0</td>\n",
       "      <td>0</td>\n",
       "    </tr>\n",
       "    <tr>\n",
       "      <th>4</th>\n",
       "      <td>1</td>\n",
       "      <td>0</td>\n",
       "      <td>0</td>\n",
       "      <td>0</td>\n",
       "      <td>0</td>\n",
       "      <td>0</td>\n",
       "      <td>0</td>\n",
       "      <td>0</td>\n",
       "      <td>0</td>\n",
       "      <td>0</td>\n",
       "      <td>...</td>\n",
       "      <td>0</td>\n",
       "      <td>0</td>\n",
       "      <td>0</td>\n",
       "      <td>0</td>\n",
       "      <td>0</td>\n",
       "      <td>0</td>\n",
       "      <td>0</td>\n",
       "      <td>0</td>\n",
       "      <td>0</td>\n",
       "      <td>0</td>\n",
       "    </tr>\n",
       "  </tbody>\n",
       "</table>\n",
       "<p>5 rows × 30 columns</p>\n",
       "</div>"
      ],
      "text/plain": [
       "   Dum_Atlanta Hawks  Dum_Boston Celtics  Dum_Brooklyn Nets  \\\n",
       "0                  0                   0                  0   \n",
       "1                  0                   0                  0   \n",
       "2                  0                   0                  0   \n",
       "3                  0                   0                  0   \n",
       "4                  1                   0                  0   \n",
       "\n",
       "   Dum_Charlotte Hornets  Dum_Chicago Bulls  Dum_Cleveland Cavaliers  \\\n",
       "0                      0                  0                        0   \n",
       "1                      0                  0                        0   \n",
       "2                      0                  0                        0   \n",
       "3                      0                  0                        0   \n",
       "4                      0                  0                        0   \n",
       "\n",
       "   Dum_Dallas Mavericks  Dum_Denver Nuggets  Dum_Detroit Pistons  \\\n",
       "0                     0                   0                    0   \n",
       "1                     0                   0                    0   \n",
       "2                     0                   0                    0   \n",
       "3                     0                   0                    0   \n",
       "4                     0                   0                    0   \n",
       "\n",
       "   Dum_Golden State Warriors           ...            \\\n",
       "0                          0           ...             \n",
       "1                          0           ...             \n",
       "2                          0           ...             \n",
       "3                          0           ...             \n",
       "4                          0           ...             \n",
       "\n",
       "   Dum_Oklahoma City Thunder  Dum_Orlando Magic  Dum_Philadelphia 76ers  \\\n",
       "0                          0                  1                       0   \n",
       "1                          0                  0                       0   \n",
       "2                          0                  0                       0   \n",
       "3                          0                  0                       0   \n",
       "4                          0                  0                       0   \n",
       "\n",
       "   Dum_Phoenix Suns  Dum_Portland Trail Blazers  Dum_Sacramento Kings  \\\n",
       "0                 0                           0                     0   \n",
       "1                 0                           0                     0   \n",
       "2                 0                           0                     0   \n",
       "3                 0                           0                     0   \n",
       "4                 0                           0                     0   \n",
       "\n",
       "   Dum_San Antonio Spurs  Dum_Toronto Raptors  Dum_Utah Jazz  \\\n",
       "0                      0                    0              0   \n",
       "1                      0                    0              0   \n",
       "2                      0                    0              0   \n",
       "3                      0                    0              0   \n",
       "4                      0                    0              0   \n",
       "\n",
       "   Dum_Washington Wizards  \n",
       "0                       0  \n",
       "1                       1  \n",
       "2                       0  \n",
       "3                       0  \n",
       "4                       0  \n",
       "\n",
       "[5 rows x 30 columns]"
      ]
     },
     "execution_count": 16,
     "metadata": {},
     "output_type": "execute_result"
    }
   ],
   "source": [
    "DumTEAM_Train.head(5)"
   ]
  },
  {
   "cell_type": "code",
   "execution_count": 17,
   "metadata": {
    "scrolled": true
   },
   "outputs": [
    {
     "data": {
      "text/html": [
       "<div>\n",
       "<style scoped>\n",
       "    .dataframe tbody tr th:only-of-type {\n",
       "        vertical-align: middle;\n",
       "    }\n",
       "\n",
       "    .dataframe tbody tr th {\n",
       "        vertical-align: top;\n",
       "    }\n",
       "\n",
       "    .dataframe thead th {\n",
       "        text-align: right;\n",
       "    }\n",
       "</style>\n",
       "<table border=\"1\" class=\"dataframe\">\n",
       "  <thead>\n",
       "    <tr style=\"text-align: right;\">\n",
       "      <th></th>\n",
       "      <th>Dum_C</th>\n",
       "      <th>Dum_PF</th>\n",
       "      <th>Dum_PG</th>\n",
       "      <th>Dum_SF</th>\n",
       "      <th>Dum_SG</th>\n",
       "    </tr>\n",
       "  </thead>\n",
       "  <tbody>\n",
       "    <tr>\n",
       "      <th>0</th>\n",
       "      <td>0</td>\n",
       "      <td>0</td>\n",
       "      <td>0</td>\n",
       "      <td>0</td>\n",
       "      <td>1</td>\n",
       "    </tr>\n",
       "    <tr>\n",
       "      <th>1</th>\n",
       "      <td>0</td>\n",
       "      <td>0</td>\n",
       "      <td>1</td>\n",
       "      <td>0</td>\n",
       "      <td>0</td>\n",
       "    </tr>\n",
       "    <tr>\n",
       "      <th>2</th>\n",
       "      <td>0</td>\n",
       "      <td>0</td>\n",
       "      <td>0</td>\n",
       "      <td>0</td>\n",
       "      <td>1</td>\n",
       "    </tr>\n",
       "    <tr>\n",
       "      <th>3</th>\n",
       "      <td>0</td>\n",
       "      <td>0</td>\n",
       "      <td>0</td>\n",
       "      <td>0</td>\n",
       "      <td>1</td>\n",
       "    </tr>\n",
       "    <tr>\n",
       "      <th>4</th>\n",
       "      <td>0</td>\n",
       "      <td>1</td>\n",
       "      <td>0</td>\n",
       "      <td>0</td>\n",
       "      <td>0</td>\n",
       "    </tr>\n",
       "  </tbody>\n",
       "</table>\n",
       "</div>"
      ],
      "text/plain": [
       "   Dum_C  Dum_PF  Dum_PG  Dum_SF  Dum_SG\n",
       "0      0       0       0       0       1\n",
       "1      0       0       1       0       0\n",
       "2      0       0       0       0       1\n",
       "3      0       0       0       0       1\n",
       "4      0       1       0       0       0"
      ]
     },
     "execution_count": 17,
     "metadata": {},
     "output_type": "execute_result"
    }
   ],
   "source": [
    "DumPOS_Train.head(5)"
   ]
  },
  {
   "cell_type": "code",
   "execution_count": 18,
   "metadata": {},
   "outputs": [],
   "source": [
    "#creating some lists and variables for the bar charts\n",
    "Dum_Team = ('Oklahoma', 'Orlando', 'Philadelphia', \n",
    "            'Phoenix', 'Portland', 'Sacramento', \n",
    "            'San Antonio', 'Toronto', 'Utah', 'Washington')\n",
    "Dum_Team_Sum = (Temp_Train['Dum_Oklahoma City Thunder'].sum(), \n",
    "                Temp_Train['Dum_Orlando Magic'].sum(),\n",
    "                Temp_Train['Dum_Philadelphia 76ers'].sum(),\n",
    "                Temp_Train['Dum_Phoenix Suns'].sum(),\n",
    "                Temp_Train['Dum_Portland Trail Blazers'].sum(),\n",
    "                Temp_Train['Dum_Sacramento Kings'].sum(),\n",
    "                Temp_Train['Dum_San Antonio Spurs'].sum(),\n",
    "                Temp_Train['Dum_Toronto Raptors'].sum(),\n",
    "                Temp_Train['Dum_Utah Jazz'].sum(),\n",
    "                Temp_Train['Dum_Washington Wizards'].sum())\n",
    "Dum_Team_Ypos = np.arange(len(Dum_Team_Sum))\n",
    "\n",
    "Dum_Pos = ('')"
   ]
  },
  {
   "cell_type": "code",
   "execution_count": 19,
   "metadata": {},
   "outputs": [
    {
     "data": {
      "image/png": "[encoded data removed]",
      "text/plain": [
       "<Figure size 432x288 with 1 Axes>"
      ]
     },
     "metadata": {},
     "output_type": "display_data"
    }
   ],
   "source": [
    "#Bar chart for team count\n",
    "plt.barh(Dum_Team_Ypos, Dum_Team_Sum, align= 'center', alpha= 0.5 )\n",
    "plt.yticks(Dum_Team_Ypos, Dum_Team)\n",
    "plt.xlabel('Count')\n",
    "plt.title('NBA teams')\n",
    " \n",
    "plt.show()"
   ]
  },
  {
   "cell_type": "code",
   "execution_count": 20,
   "metadata": {},
   "outputs": [
    {
     "data": {
      "text/plain": [
       "(23, 28, 26, 20, 30)"
      ]
     },
     "execution_count": 20,
     "metadata": {},
     "output_type": "execute_result"
    }
   ],
   "source": [
    "Dum_Pos_Sum = (DumPOS_Train['Dum_C'].sum(),\n",
    "               DumPOS_Train['Dum_PF'].sum(),\n",
    "               DumPOS_Train['Dum_PG'].sum(),\n",
    "               DumPOS_Train['Dum_SF'].sum(),\n",
    "               DumPOS_Train['Dum_SG'].sum())\n",
    "Dum_Pos_Sum"
   ]
  },
  {
   "cell_type": "markdown",
   "metadata": {},
   "source": [
    "## Model Selection for train score\n",
    "\n",
    "Created my own function using the help of these links: (have to check up on if we're plagarising)\n",
    "\n",
    "http://www.science.smith.edu/~jcrouser/SDS293/labs/lab8-py.html\n",
    "\n",
    "https://xavierbourretsicotte.github.io/subset_selection.html\n",
    "\n",
    "https://www.youtube.com/watch?v=Wb2Tp35dZ-I"
   ]
  },
  {
   "cell_type": "code",
   "execution_count": 21,
   "metadata": {},
   "outputs": [],
   "source": [
    "#function used to create a linear regression model\n",
    "#calculates an OLS model and subsequently, MSE, RSS and Rsquared\n",
    "def Temp_OLS(X, Y):\n",
    "    Trainmodel = linear_model.LinearRegression(fit_intercept= True)\n",
    "    Trainmodel.fit(X, Y)\n",
    "    MSE = mean_squared_error(Y, Trainmodel.predict(X))\n",
    "    RMSE = math.sqrt(mean_squared_error(Y, Trainmodel.predict(X)))\n",
    "\n",
    "    return MSE, RMSE"
   ]
  },
  {
   "cell_type": "code",
   "execution_count": 22,
   "metadata": {},
   "outputs": [
    {
     "data": {
      "text/plain": [
       "(199139, 4)"
      ]
     },
     "execution_count": 22,
     "metadata": {},
     "output_type": "execute_result"
    }
   ],
   "source": [
    "#model selection algorithm 1\n",
    "Y = Train['SALARY']\n",
    "X = Train.drop(['Train_ID', 'SALARY', 'TEAM', 'POSITION'], axis= 1)\n",
    "\n",
    "Train_MSE_List = []\n",
    "Train_RMSE_List = []\n",
    "Train_Feature_Number = []\n",
    "Train_Feature_List = []\n",
    "\n",
    "for Kilo in range(1, 11): #note max value of kilo (k) is 20 as no categorical predictors. Takes ~20m to caculate range (1,11)\n",
    "    for combinations in itertools.combinations(X.columns, Kilo):\n",
    "        Train_Result = Temp_OLS(X[list(combinations)], Y) #convert tuple to list\n",
    "        Train_MSE_List.append(Train_Result[0])   \n",
    "        Train_RMSE_List.append(Train_Result[1])\n",
    "        Train_Feature_Number.append(len(combinations))    \n",
    "        Train_Feature_List.append(combinations)\n",
    "    \n",
    "Bestsubset = pd.DataFrame({\n",
    "    'Feature Number': Train_Feature_Number,\n",
    "    'Features': Train_Feature_List,\n",
    "    'MSE': Train_MSE_List,\n",
    "    'RMSE': Train_RMSE_List,\n",
    "})\n",
    "\n",
    "Bestsubset.shape"
   ]
  },
  {
   "cell_type": "code",
   "execution_count": 23,
   "metadata": {},
   "outputs": [
    {
     "data": {
      "image/png": "[encoded data removed]",
      "text/plain": [
       "<Figure size 432x288 with 1 Axes>"
      ]
     },
     "metadata": {},
     "output_type": "display_data"
    }
   ],
   "source": [
    "#boxplot\n",
    "Boxplot_RMSE = sns.boxplot(x= Bestsubset['RMSE'], data= Bestsubset, palette= 'Blues', showmeans= True)\n",
    "\n",
    "plt.title('Boxplot for RMSE')\n",
    "\n",
    "plt.show()"
   ]
  },
  {
   "cell_type": "code",
   "execution_count": 24,
   "metadata": {},
   "outputs": [
    {
     "name": "stdout",
     "output_type": "stream",
     "text": [
      "1\n",
      "2\n",
      "3\n",
      "4\n",
      "5\n",
      "6\n",
      "7\n",
      "8\n",
      "9\n",
      "10\n"
     ]
    }
   ],
   "source": [
    "#creating seperate dataframes for each feature number\n",
    "Bestsubset_Temp = Bestsubset.groupby('Feature Number')\n",
    "\n",
    "for keys, values in Bestsubset_Temp:\n",
    "    print(keys)"
   ]
  },
  {
   "cell_type": "code",
   "execution_count": 25,
   "metadata": {},
   "outputs": [
    {
     "data": {
      "text/html": [
       "<div>\n",
       "<style scoped>\n",
       "    .dataframe tbody tr th:only-of-type {\n",
       "        vertical-align: middle;\n",
       "    }\n",
       "\n",
       "    .dataframe tbody tr th {\n",
       "        vertical-align: top;\n",
       "    }\n",
       "\n",
       "    .dataframe thead th {\n",
       "        text-align: right;\n",
       "    }\n",
       "</style>\n",
       "<table border=\"1\" class=\"dataframe\">\n",
       "  <thead>\n",
       "    <tr style=\"text-align: right;\">\n",
       "      <th></th>\n",
       "      <th>Features</th>\n",
       "      <th>MSE</th>\n",
       "      <th>RMSE</th>\n",
       "    </tr>\n",
       "    <tr>\n",
       "      <th>Feature Number</th>\n",
       "      <th></th>\n",
       "      <th></th>\n",
       "      <th></th>\n",
       "    </tr>\n",
       "  </thead>\n",
       "  <tbody>\n",
       "    <tr>\n",
       "      <th>1</th>\n",
       "      <td>(AST,)</td>\n",
       "      <td>17.335114</td>\n",
       "      <td>4.163546</td>\n",
       "    </tr>\n",
       "    <tr>\n",
       "      <th>2</th>\n",
       "      <td>(AST, BLK)</td>\n",
       "      <td>14.228934</td>\n",
       "      <td>3.772126</td>\n",
       "    </tr>\n",
       "    <tr>\n",
       "      <th>3</th>\n",
       "      <td>(AST, BLK, DRtg)</td>\n",
       "      <td>12.827446</td>\n",
       "      <td>3.581542</td>\n",
       "    </tr>\n",
       "    <tr>\n",
       "      <th>4</th>\n",
       "      <td>(AST, BLK, DRtg, DWS)</td>\n",
       "      <td>11.619989</td>\n",
       "      <td>3.408810</td>\n",
       "    </tr>\n",
       "    <tr>\n",
       "      <th>5</th>\n",
       "      <td>(AST, BLK, DRtg, DWS, WS)</td>\n",
       "      <td>11.237626</td>\n",
       "      <td>3.352257</td>\n",
       "    </tr>\n",
       "    <tr>\n",
       "      <th>6</th>\n",
       "      <td>(AST, BLK, DRtg, OWS, DWS, WS)</td>\n",
       "      <td>11.029702</td>\n",
       "      <td>3.321099</td>\n",
       "    </tr>\n",
       "    <tr>\n",
       "      <th>7</th>\n",
       "      <td>(AST, BLK, ORtg, DRtg, OWS, DWS, WS)</td>\n",
       "      <td>10.714180</td>\n",
       "      <td>3.273252</td>\n",
       "    </tr>\n",
       "    <tr>\n",
       "      <th>8</th>\n",
       "      <td>(AST, BLK, TOV, ORtg, DRtg, OWS, DWS, WS)</td>\n",
       "      <td>10.464393</td>\n",
       "      <td>3.234871</td>\n",
       "    </tr>\n",
       "    <tr>\n",
       "      <th>9</th>\n",
       "      <td>(AST, BLK, TOV, USG, ORtg, DRtg, OWS, DWS, WS)</td>\n",
       "      <td>10.405674</td>\n",
       "      <td>3.225783</td>\n",
       "    </tr>\n",
       "    <tr>\n",
       "      <th>10</th>\n",
       "      <td>(AST, STL, BLK, TOV, USG, ORtg, DRtg, OWS, DWS...</td>\n",
       "      <td>10.359828</td>\n",
       "      <td>3.218669</td>\n",
       "    </tr>\n",
       "  </tbody>\n",
       "</table>\n",
       "</div>"
      ],
      "text/plain": [
       "                                                         Features        MSE  \\\n",
       "Feature Number                                                                 \n",
       "1                                                          (AST,)  17.335114   \n",
       "2                                                      (AST, BLK)  14.228934   \n",
       "3                                                (AST, BLK, DRtg)  12.827446   \n",
       "4                                           (AST, BLK, DRtg, DWS)  11.619989   \n",
       "5                                       (AST, BLK, DRtg, DWS, WS)  11.237626   \n",
       "6                                  (AST, BLK, DRtg, OWS, DWS, WS)  11.029702   \n",
       "7                            (AST, BLK, ORtg, DRtg, OWS, DWS, WS)  10.714180   \n",
       "8                       (AST, BLK, TOV, ORtg, DRtg, OWS, DWS, WS)  10.464393   \n",
       "9                  (AST, BLK, TOV, USG, ORtg, DRtg, OWS, DWS, WS)  10.405674   \n",
       "10              (AST, STL, BLK, TOV, USG, ORtg, DRtg, OWS, DWS...  10.359828   \n",
       "\n",
       "                    RMSE  \n",
       "Feature Number            \n",
       "1               4.163546  \n",
       "2               3.772126  \n",
       "3               3.581542  \n",
       "4               3.408810  \n",
       "5               3.352257  \n",
       "6               3.321099  \n",
       "7               3.273252  \n",
       "8               3.234871  \n",
       "9               3.225783  \n",
       "10              3.218669  "
      ]
     },
     "execution_count": 25,
     "metadata": {},
     "output_type": "execute_result"
    }
   ],
   "source": [
    "#Finding minimum value in all Stepwise df\n",
    "Bestsubset_Temp.min()"
   ]
  },
  {
   "cell_type": "code",
   "execution_count": 26,
   "metadata": {},
   "outputs": [
    {
     "data": {
      "image/png": "[encoded data removed]",
      "text/plain": [
       "<Figure size 432x288 with 1 Axes>"
      ]
     },
     "metadata": {},
     "output_type": "display_data"
    },
    {
     "name": "stdout",
     "output_type": "stream",
     "text": [
      "Lowest RMSE = 3.2186687274068646\n"
     ]
    }
   ],
   "source": [
    "#creating half of the learning curve plotting test error\n",
    "Bestsubset_RMSE = Bestsubset.groupby('Feature Number', as_index= False)['RMSE'].min()\n",
    "\n",
    "fig, ax=plt.subplots()\n",
    "ax.plot(Bestsubset_RMSE['Feature Number'], Bestsubset_RMSE['RMSE'], color= '#1F77B4')\n",
    "ax.set_xlabel('Number of features')\n",
    "ax.set_ylabel('RMSE')\n",
    "plt.show()\n",
    "\n",
    "print('Lowest RMSE = {}'.format(Bestsubset_RMSE['RMSE'].min()))"
   ]
  },
  {
   "cell_type": "markdown",
   "metadata": {},
   "source": [
    "## Model Selection for test score\n",
    "\n",
    "Note there's a huge list of models down the page so prepare for scrolling\n",
    "\n",
    "Used this for help\n",
    "\n",
    "http://scikit-learn.org/stable/auto_examples/linear_model/plot_ols.html\n",
    "\n",
    "\n",
    "# Big problem with code index VS excel index. Should start from 1. Starts from 0"
   ]
  },
  {
   "cell_type": "code",
   "execution_count": 27,
   "metadata": {},
   "outputs": [
    {
     "data": {
      "text/plain": [
       "(127, 21)"
      ]
     },
     "execution_count": 27,
     "metadata": {},
     "output_type": "execute_result"
    }
   ],
   "source": [
    "#just to ensure predictions have the same shape as the test data\n",
    "Test.shape"
   ]
  },
  {
   "cell_type": "markdown",
   "metadata": {},
   "source": [
    "#### Model 1\n",
    "\n",
    "AST"
   ]
  },
  {
   "cell_type": "code",
   "execution_count": 50,
   "metadata": {},
   "outputs": [
    {
     "data": {
      "text/html": [
       "<div>\n",
       "<style scoped>\n",
       "    .dataframe tbody tr th:only-of-type {\n",
       "        vertical-align: middle;\n",
       "    }\n",
       "\n",
       "    .dataframe tbody tr th {\n",
       "        vertical-align: top;\n",
       "    }\n",
       "\n",
       "    .dataframe thead th {\n",
       "        text-align: right;\n",
       "    }\n",
       "</style>\n",
       "<table border=\"1\" class=\"dataframe\">\n",
       "  <thead>\n",
       "    <tr style=\"text-align: right;\">\n",
       "      <th></th>\n",
       "      <th>0</th>\n",
       "    </tr>\n",
       "  </thead>\n",
       "  <tbody>\n",
       "    <tr>\n",
       "      <th>124</th>\n",
       "      <td>7.046321</td>\n",
       "    </tr>\n",
       "    <tr>\n",
       "      <th>125</th>\n",
       "      <td>6.607319</td>\n",
       "    </tr>\n",
       "    <tr>\n",
       "      <th>126</th>\n",
       "      <td>6.113441</td>\n",
       "    </tr>\n",
       "  </tbody>\n",
       "</table>\n",
       "</div>"
      ],
      "text/plain": [
       "            0\n",
       "124  7.046321\n",
       "125  6.607319\n",
       "126  6.113441"
      ]
     },
     "execution_count": 50,
     "metadata": {},
     "output_type": "execute_result"
    }
   ],
   "source": [
    "Predictors_1 = ['AST']\n",
    "\n",
    "Test_Model_1 = linear_model.LinearRegression(fit_intercept= True)\n",
    "Test_Model_1.fit(Train[Predictors_1], Train['SALARY'])\n",
    "Predictions_1 = Test_Model_1.predict(Test[Predictors_1])\n",
    "\n",
    "Test_Model_1_DF = pd.DataFrame(Predictions_1)\n",
    "Test_Model_1_DF.to_csv('Model_2_OLS.csv')\n",
    "\n",
    "Test_Model_1_DF.tail(3)"
   ]
  },
  {
   "cell_type": "markdown",
   "metadata": {
    "scrolled": true
   },
   "source": [
    "#### Model 2\n",
    "\n",
    "AST, BLK"
   ]
  },
  {
   "cell_type": "code",
   "execution_count": 31,
   "metadata": {},
   "outputs": [
    {
     "data": {
      "text/html": [
       "<div>\n",
       "<style scoped>\n",
       "    .dataframe tbody tr th:only-of-type {\n",
       "        vertical-align: middle;\n",
       "    }\n",
       "\n",
       "    .dataframe tbody tr th {\n",
       "        vertical-align: top;\n",
       "    }\n",
       "\n",
       "    .dataframe thead th {\n",
       "        text-align: right;\n",
       "    }\n",
       "</style>\n",
       "<table border=\"1\" class=\"dataframe\">\n",
       "  <thead>\n",
       "    <tr style=\"text-align: right;\">\n",
       "      <th></th>\n",
       "      <th>0</th>\n",
       "    </tr>\n",
       "  </thead>\n",
       "  <tbody>\n",
       "    <tr>\n",
       "      <th>124</th>\n",
       "      <td>6.818151</td>\n",
       "    </tr>\n",
       "    <tr>\n",
       "      <th>125</th>\n",
       "      <td>6.456701</td>\n",
       "    </tr>\n",
       "    <tr>\n",
       "      <th>126</th>\n",
       "      <td>5.826121</td>\n",
       "    </tr>\n",
       "  </tbody>\n",
       "</table>\n",
       "</div>"
      ],
      "text/plain": [
       "            0\n",
       "124  6.818151\n",
       "125  6.456701\n",
       "126  5.826121"
      ]
     },
     "execution_count": 31,
     "metadata": {},
     "output_type": "execute_result"
    }
   ],
   "source": [
    "Predictors_2 = ['AST', 'BLK']\n",
    "\n",
    "Test_Model_2 = linear_model.LinearRegression(fit_intercept= True)\n",
    "Test_Model_2.fit(Train[Predictors_2], Train['SALARY'])\n",
    "Predictions_2 = Test_Model_2.predict(Test[Predictors_2])\n",
    "\n",
    "Test_Model_2_DF = pd.DataFrame(Predictions_2)\n",
    "Test_Model_2_DF.tail(3)\n",
    "\n"
   ]
  },
  {
   "cell_type": "markdown",
   "metadata": {},
   "source": [
    "#### Model 3\n",
    "\n",
    "AST, BLK, DRtg"
   ]
  },
  {
   "cell_type": "code",
   "execution_count": 32,
   "metadata": {},
   "outputs": [
    {
     "data": {
      "text/html": [
       "<div>\n",
       "<style scoped>\n",
       "    .dataframe tbody tr th:only-of-type {\n",
       "        vertical-align: middle;\n",
       "    }\n",
       "\n",
       "    .dataframe tbody tr th {\n",
       "        vertical-align: top;\n",
       "    }\n",
       "\n",
       "    .dataframe thead th {\n",
       "        text-align: right;\n",
       "    }\n",
       "</style>\n",
       "<table border=\"1\" class=\"dataframe\">\n",
       "  <thead>\n",
       "    <tr style=\"text-align: right;\">\n",
       "      <th></th>\n",
       "      <th>0</th>\n",
       "    </tr>\n",
       "  </thead>\n",
       "  <tbody>\n",
       "    <tr>\n",
       "      <th>124</th>\n",
       "      <td>6.585619</td>\n",
       "    </tr>\n",
       "    <tr>\n",
       "      <th>125</th>\n",
       "      <td>6.572137</td>\n",
       "    </tr>\n",
       "    <tr>\n",
       "      <th>126</th>\n",
       "      <td>6.602302</td>\n",
       "    </tr>\n",
       "  </tbody>\n",
       "</table>\n",
       "</div>"
      ],
      "text/plain": [
       "            0\n",
       "124  6.585619\n",
       "125  6.572137\n",
       "126  6.602302"
      ]
     },
     "execution_count": 32,
     "metadata": {},
     "output_type": "execute_result"
    }
   ],
   "source": [
    "Predictors_3 = ['AST', 'BLK', 'DRtg']\n",
    "\n",
    "Test_Model_3 = linear_model.LinearRegression(fit_intercept= True)\n",
    "Test_Model_3.fit(Train[Predictors_3], Train['SALARY'])\n",
    "Predictions_3 = Test_Model_3.predict(Test[Predictors_3])\n",
    "\n",
    "Test_Model_3_DF = pd.DataFrame(Predictions_3)\n",
    "Test_Model_3_DF.tail(3)"
   ]
  },
  {
   "cell_type": "markdown",
   "metadata": {},
   "source": [
    "#### Model 4\n",
    "\n",
    "AST, BLK, DRtg, DWS"
   ]
  },
  {
   "cell_type": "code",
   "execution_count": 33,
   "metadata": {},
   "outputs": [
    {
     "data": {
      "text/html": [
       "<div>\n",
       "<style scoped>\n",
       "    .dataframe tbody tr th:only-of-type {\n",
       "        vertical-align: middle;\n",
       "    }\n",
       "\n",
       "    .dataframe tbody tr th {\n",
       "        vertical-align: top;\n",
       "    }\n",
       "\n",
       "    .dataframe thead th {\n",
       "        text-align: right;\n",
       "    }\n",
       "</style>\n",
       "<table border=\"1\" class=\"dataframe\">\n",
       "  <thead>\n",
       "    <tr style=\"text-align: right;\">\n",
       "      <th></th>\n",
       "      <th>0</th>\n",
       "    </tr>\n",
       "  </thead>\n",
       "  <tbody>\n",
       "    <tr>\n",
       "      <th>124</th>\n",
       "      <td>3.257740</td>\n",
       "    </tr>\n",
       "    <tr>\n",
       "      <th>125</th>\n",
       "      <td>1.041890</td>\n",
       "    </tr>\n",
       "    <tr>\n",
       "      <th>126</th>\n",
       "      <td>6.690027</td>\n",
       "    </tr>\n",
       "  </tbody>\n",
       "</table>\n",
       "</div>"
      ],
      "text/plain": [
       "            0\n",
       "124  3.257740\n",
       "125  1.041890\n",
       "126  6.690027"
      ]
     },
     "execution_count": 33,
     "metadata": {},
     "output_type": "execute_result"
    }
   ],
   "source": [
    "Predictors_4 = ['AST', 'BLK', 'DRtg', 'DWS']\n",
    "\n",
    "Test_Model_4 = linear_model.LinearRegression(fit_intercept= True)\n",
    "Test_Model_4.fit(Train[Predictors_4], Train['SALARY'])\n",
    "Predictions_4 = Test_Model_4.predict(Test[Predictors_4])\n",
    "\n",
    "Test_Model_4_DF = pd.DataFrame(Predictions_4)\n",
    "Test_Model_4_DF.tail(3)"
   ]
  },
  {
   "cell_type": "markdown",
   "metadata": {},
   "source": [
    "#### Model 5\n",
    "\n",
    "AST, BLK, DRtg, DWS, WS"
   ]
  },
  {
   "cell_type": "code",
   "execution_count": 34,
   "metadata": {},
   "outputs": [
    {
     "data": {
      "text/html": [
       "<div>\n",
       "<style scoped>\n",
       "    .dataframe tbody tr th:only-of-type {\n",
       "        vertical-align: middle;\n",
       "    }\n",
       "\n",
       "    .dataframe tbody tr th {\n",
       "        vertical-align: top;\n",
       "    }\n",
       "\n",
       "    .dataframe thead th {\n",
       "        text-align: right;\n",
       "    }\n",
       "</style>\n",
       "<table border=\"1\" class=\"dataframe\">\n",
       "  <thead>\n",
       "    <tr style=\"text-align: right;\">\n",
       "      <th></th>\n",
       "      <th>0</th>\n",
       "    </tr>\n",
       "  </thead>\n",
       "  <tbody>\n",
       "    <tr>\n",
       "      <th>124</th>\n",
       "      <td>2.460603</td>\n",
       "    </tr>\n",
       "    <tr>\n",
       "      <th>125</th>\n",
       "      <td>1.454360</td>\n",
       "    </tr>\n",
       "    <tr>\n",
       "      <th>126</th>\n",
       "      <td>6.305232</td>\n",
       "    </tr>\n",
       "  </tbody>\n",
       "</table>\n",
       "</div>"
      ],
      "text/plain": [
       "            0\n",
       "124  2.460603\n",
       "125  1.454360\n",
       "126  6.305232"
      ]
     },
     "execution_count": 34,
     "metadata": {},
     "output_type": "execute_result"
    }
   ],
   "source": [
    "Predictors_5 = ['AST', 'BLK', 'DRtg', 'DWS', 'WS']\n",
    "\n",
    "Test_Model_5 = linear_model.LinearRegression(fit_intercept= True)\n",
    "Test_Model_5.fit(Train[Predictors_5], Train['SALARY'])\n",
    "Predictions_5 = Test_Model_5.predict(Test[Predictors_5])\n",
    "\n",
    "Test_Model_5_DF = pd.DataFrame(Predictions_5)\n",
    "Test_Model_5_DF.tail(3)"
   ]
  },
  {
   "cell_type": "markdown",
   "metadata": {},
   "source": [
    "#### Model 6\n",
    "\n",
    "AST, BLK, DRtg, DWS, WS, OWS"
   ]
  },
  {
   "cell_type": "code",
   "execution_count": 35,
   "metadata": {},
   "outputs": [
    {
     "data": {
      "text/html": [
       "<div>\n",
       "<style scoped>\n",
       "    .dataframe tbody tr th:only-of-type {\n",
       "        vertical-align: middle;\n",
       "    }\n",
       "\n",
       "    .dataframe tbody tr th {\n",
       "        vertical-align: top;\n",
       "    }\n",
       "\n",
       "    .dataframe thead th {\n",
       "        text-align: right;\n",
       "    }\n",
       "</style>\n",
       "<table border=\"1\" class=\"dataframe\">\n",
       "  <thead>\n",
       "    <tr style=\"text-align: right;\">\n",
       "      <th></th>\n",
       "      <th>0</th>\n",
       "    </tr>\n",
       "  </thead>\n",
       "  <tbody>\n",
       "    <tr>\n",
       "      <th>124</th>\n",
       "      <td>2.661902</td>\n",
       "    </tr>\n",
       "    <tr>\n",
       "      <th>125</th>\n",
       "      <td>3.125777</td>\n",
       "    </tr>\n",
       "    <tr>\n",
       "      <th>126</th>\n",
       "      <td>6.457258</td>\n",
       "    </tr>\n",
       "  </tbody>\n",
       "</table>\n",
       "</div>"
      ],
      "text/plain": [
       "            0\n",
       "124  2.661902\n",
       "125  3.125777\n",
       "126  6.457258"
      ]
     },
     "execution_count": 35,
     "metadata": {},
     "output_type": "execute_result"
    }
   ],
   "source": [
    "Predictors_6 = ['AST', 'BLK', 'DRtg', 'DWS', 'WS', 'OWS']\n",
    "\n",
    "Test_Model_6 = linear_model.LinearRegression(fit_intercept= True)\n",
    "Test_Model_6.fit(Train[Predictors_6], Train['SALARY'])\n",
    "Predictions_6 = Test_Model_6.predict(Test[Predictors_6])\n",
    "\n",
    "Test_Model_6_DF = pd.DataFrame(Predictions_6)\n",
    "Test_Model_6_DF.tail(3)"
   ]
  },
  {
   "cell_type": "markdown",
   "metadata": {},
   "source": [
    "#### Model 7\n",
    "\n",
    "AST, BLK, DRtg, DWS, WS, OWS, ORtg"
   ]
  },
  {
   "cell_type": "code",
   "execution_count": 36,
   "metadata": {},
   "outputs": [
    {
     "data": {
      "text/html": [
       "<div>\n",
       "<style scoped>\n",
       "    .dataframe tbody tr th:only-of-type {\n",
       "        vertical-align: middle;\n",
       "    }\n",
       "\n",
       "    .dataframe tbody tr th {\n",
       "        vertical-align: top;\n",
       "    }\n",
       "\n",
       "    .dataframe thead th {\n",
       "        text-align: right;\n",
       "    }\n",
       "</style>\n",
       "<table border=\"1\" class=\"dataframe\">\n",
       "  <thead>\n",
       "    <tr style=\"text-align: right;\">\n",
       "      <th></th>\n",
       "      <th>0</th>\n",
       "    </tr>\n",
       "  </thead>\n",
       "  <tbody>\n",
       "    <tr>\n",
       "      <th>124</th>\n",
       "      <td>4.293010</td>\n",
       "    </tr>\n",
       "    <tr>\n",
       "      <th>125</th>\n",
       "      <td>3.641659</td>\n",
       "    </tr>\n",
       "    <tr>\n",
       "      <th>126</th>\n",
       "      <td>6.102049</td>\n",
       "    </tr>\n",
       "  </tbody>\n",
       "</table>\n",
       "</div>"
      ],
      "text/plain": [
       "            0\n",
       "124  4.293010\n",
       "125  3.641659\n",
       "126  6.102049"
      ]
     },
     "execution_count": 36,
     "metadata": {},
     "output_type": "execute_result"
    }
   ],
   "source": [
    "Predictors_7 = ['AST', 'BLK', 'DRtg', 'DWS', 'WS', 'OWS', 'ORtg']\n",
    "\n",
    "Test_Model_7 = linear_model.LinearRegression(fit_intercept= True)\n",
    "Test_Model_7.fit(Train[Predictors_7], Train['SALARY'])\n",
    "Predictions_7 = Test_Model_7.predict(Test[Predictors_7])\n",
    "\n",
    "Test_Model_7_DF = pd.DataFrame(Predictions_7)\n",
    "Test_Model_7_DF.tail(3)"
   ]
  },
  {
   "cell_type": "markdown",
   "metadata": {},
   "source": [
    "#### Model 8\n",
    "\n",
    "AST, BLK, DRtg, DWS, WS, OWS, ORtg, TOV"
   ]
  },
  {
   "cell_type": "code",
   "execution_count": 37,
   "metadata": {},
   "outputs": [
    {
     "data": {
      "text/html": [
       "<div>\n",
       "<style scoped>\n",
       "    .dataframe tbody tr th:only-of-type {\n",
       "        vertical-align: middle;\n",
       "    }\n",
       "\n",
       "    .dataframe tbody tr th {\n",
       "        vertical-align: top;\n",
       "    }\n",
       "\n",
       "    .dataframe thead th {\n",
       "        text-align: right;\n",
       "    }\n",
       "</style>\n",
       "<table border=\"1\" class=\"dataframe\">\n",
       "  <thead>\n",
       "    <tr style=\"text-align: right;\">\n",
       "      <th></th>\n",
       "      <th>0</th>\n",
       "    </tr>\n",
       "  </thead>\n",
       "  <tbody>\n",
       "    <tr>\n",
       "      <th>124</th>\n",
       "      <td>4.211925</td>\n",
       "    </tr>\n",
       "    <tr>\n",
       "      <th>125</th>\n",
       "      <td>4.247532</td>\n",
       "    </tr>\n",
       "    <tr>\n",
       "      <th>126</th>\n",
       "      <td>6.062128</td>\n",
       "    </tr>\n",
       "  </tbody>\n",
       "</table>\n",
       "</div>"
      ],
      "text/plain": [
       "            0\n",
       "124  4.211925\n",
       "125  4.247532\n",
       "126  6.062128"
      ]
     },
     "execution_count": 37,
     "metadata": {},
     "output_type": "execute_result"
    }
   ],
   "source": [
    "Predictors_8 = ['AST', 'BLK', 'DRtg', 'DWS', 'WS', 'OWS', 'ORtg', 'TOV']\n",
    "\n",
    "Test_Model_8 = linear_model.LinearRegression(fit_intercept= True)\n",
    "Test_Model_8.fit(Train[Predictors_8], Train['SALARY'])\n",
    "Predictions_8 = Test_Model_8.predict(Test[Predictors_8])\n",
    "\n",
    "Test_Model_8_DF = pd.DataFrame(Predictions_8)\n",
    "Test_Model_8_DF.tail(3)"
   ]
  },
  {
   "cell_type": "markdown",
   "metadata": {},
   "source": [
    "#### Model 9\n",
    "\n",
    "AST, BLK, DRtg, DWS, WS, OWS, ORtg, TOV, USG"
   ]
  },
  {
   "cell_type": "code",
   "execution_count": 38,
   "metadata": {},
   "outputs": [
    {
     "data": {
      "text/html": [
       "<div>\n",
       "<style scoped>\n",
       "    .dataframe tbody tr th:only-of-type {\n",
       "        vertical-align: middle;\n",
       "    }\n",
       "\n",
       "    .dataframe tbody tr th {\n",
       "        vertical-align: top;\n",
       "    }\n",
       "\n",
       "    .dataframe thead th {\n",
       "        text-align: right;\n",
       "    }\n",
       "</style>\n",
       "<table border=\"1\" class=\"dataframe\">\n",
       "  <thead>\n",
       "    <tr style=\"text-align: right;\">\n",
       "      <th></th>\n",
       "      <th>0</th>\n",
       "    </tr>\n",
       "  </thead>\n",
       "  <tbody>\n",
       "    <tr>\n",
       "      <th>124</th>\n",
       "      <td>5.487837</td>\n",
       "    </tr>\n",
       "    <tr>\n",
       "      <th>125</th>\n",
       "      <td>3.956830</td>\n",
       "    </tr>\n",
       "    <tr>\n",
       "      <th>126</th>\n",
       "      <td>5.279706</td>\n",
       "    </tr>\n",
       "  </tbody>\n",
       "</table>\n",
       "</div>"
      ],
      "text/plain": [
       "            0\n",
       "124  5.487837\n",
       "125  3.956830\n",
       "126  5.279706"
      ]
     },
     "execution_count": 38,
     "metadata": {},
     "output_type": "execute_result"
    }
   ],
   "source": [
    "Predictors_9 = ['AST', 'BLK', 'DRtg', 'DWS', 'WS', 'OWS', 'ORtg', 'TOV', 'USG']\n",
    "\n",
    "Test_Model_9 = linear_model.LinearRegression(fit_intercept= True)\n",
    "Test_Model_9.fit(Train[Predictors_9], Train['SALARY'])\n",
    "Predictions_9 = Test_Model_9.predict(Test[Predictors_9])\n",
    "\n",
    "Test_Model_9_DF = pd.DataFrame(Predictions_9)\n",
    "Test_Model_9_DF.tail(3)"
   ]
  },
  {
   "cell_type": "markdown",
   "metadata": {},
   "source": [
    "#### Model 10\n",
    "\n",
    "AST, BLK, DRtg, DWS, WS, OWS, ORtg, TOV, USG, STL"
   ]
  },
  {
   "cell_type": "code",
   "execution_count": 39,
   "metadata": {},
   "outputs": [
    {
     "data": {
      "text/html": [
       "<div>\n",
       "<style scoped>\n",
       "    .dataframe tbody tr th:only-of-type {\n",
       "        vertical-align: middle;\n",
       "    }\n",
       "\n",
       "    .dataframe tbody tr th {\n",
       "        vertical-align: top;\n",
       "    }\n",
       "\n",
       "    .dataframe thead th {\n",
       "        text-align: right;\n",
       "    }\n",
       "</style>\n",
       "<table border=\"1\" class=\"dataframe\">\n",
       "  <thead>\n",
       "    <tr style=\"text-align: right;\">\n",
       "      <th></th>\n",
       "      <th>0</th>\n",
       "    </tr>\n",
       "  </thead>\n",
       "  <tbody>\n",
       "    <tr>\n",
       "      <th>124</th>\n",
       "      <td>6.268435</td>\n",
       "    </tr>\n",
       "    <tr>\n",
       "      <th>125</th>\n",
       "      <td>3.854730</td>\n",
       "    </tr>\n",
       "    <tr>\n",
       "      <th>126</th>\n",
       "      <td>5.228685</td>\n",
       "    </tr>\n",
       "  </tbody>\n",
       "</table>\n",
       "</div>"
      ],
      "text/plain": [
       "            0\n",
       "124  6.268435\n",
       "125  3.854730\n",
       "126  5.228685"
      ]
     },
     "execution_count": 39,
     "metadata": {},
     "output_type": "execute_result"
    }
   ],
   "source": [
    "Predictors_10 = ['AST', 'BLK', 'DRtg', 'DWS', 'WS', 'OWS', 'ORtg', 'TOV', 'USG', 'STL']\n",
    "\n",
    "Test_Model_10 = linear_model.LinearRegression(fit_intercept= True)\n",
    "Test_Model_10.fit(Train[Predictors_10], Train['SALARY'])\n",
    "Predictions_10 = Test_Model_10.predict(Test[Predictors_10])\n",
    "\n",
    "Test_Model_10_DF = pd.DataFrame(Predictions_10)\n",
    "Test_Model_10_DF.tail(3)"
   ]
  },
  {
   "cell_type": "markdown",
   "metadata": {},
   "source": [
    "## Not sure if calculated RMSE correctly\n",
    "\n",
    "http://scikit-learn.org/stable/auto_examples/linear_model/plot_ols.html\n",
    "\n",
    "http://scikit-learn.org/stable/tutorial/statistical_inference/supervised_learning.html\n",
    "\n",
    "http://scikit-learn.org/stable/modules/generated/sklearn.metrics.mean_squared_error.html\n",
    "\n",
    "Terminology\n",
    "\n",
    ".predict = the y variable"
   ]
  },
  {
   "cell_type": "code",
   "execution_count": 47,
   "metadata": {},
   "outputs": [
    {
     "data": {
      "text/html": [
       "<div>\n",
       "<style scoped>\n",
       "    .dataframe tbody tr th:only-of-type {\n",
       "        vertical-align: middle;\n",
       "    }\n",
       "\n",
       "    .dataframe tbody tr th {\n",
       "        vertical-align: top;\n",
       "    }\n",
       "\n",
       "    .dataframe thead th {\n",
       "        text-align: right;\n",
       "    }\n",
       "</style>\n",
       "<table border=\"1\" class=\"dataframe\">\n",
       "  <thead>\n",
       "    <tr style=\"text-align: right;\">\n",
       "      <th></th>\n",
       "      <th>Feature Number</th>\n",
       "      <th>Test RMSE</th>\n",
       "    </tr>\n",
       "  </thead>\n",
       "  <tbody>\n",
       "    <tr>\n",
       "      <th>0</th>\n",
       "      <td>1</td>\n",
       "      <td>5.749852</td>\n",
       "    </tr>\n",
       "    <tr>\n",
       "      <th>1</th>\n",
       "      <td>2</td>\n",
       "      <td>5.721740</td>\n",
       "    </tr>\n",
       "    <tr>\n",
       "      <th>2</th>\n",
       "      <td>3</td>\n",
       "      <td>5.944135</td>\n",
       "    </tr>\n",
       "    <tr>\n",
       "      <th>3</th>\n",
       "      <td>4</td>\n",
       "      <td>6.673001</td>\n",
       "    </tr>\n",
       "    <tr>\n",
       "      <th>4</th>\n",
       "      <td>5</td>\n",
       "      <td>6.548780</td>\n",
       "    </tr>\n",
       "    <tr>\n",
       "      <th>5</th>\n",
       "      <td>6</td>\n",
       "      <td>6.476057</td>\n",
       "    </tr>\n",
       "    <tr>\n",
       "      <th>6</th>\n",
       "      <td>7</td>\n",
       "      <td>6.505171</td>\n",
       "    </tr>\n",
       "    <tr>\n",
       "      <th>7</th>\n",
       "      <td>8</td>\n",
       "      <td>6.464164</td>\n",
       "    </tr>\n",
       "    <tr>\n",
       "      <th>8</th>\n",
       "      <td>9</td>\n",
       "      <td>6.600711</td>\n",
       "    </tr>\n",
       "    <tr>\n",
       "      <th>9</th>\n",
       "      <td>10</td>\n",
       "      <td>6.643650</td>\n",
       "    </tr>\n",
       "  </tbody>\n",
       "</table>\n",
       "</div>"
      ],
      "text/plain": [
       "   Feature Number  Test RMSE\n",
       "0               1   5.749852\n",
       "1               2   5.721740\n",
       "2               3   5.944135\n",
       "3               4   6.673001\n",
       "4               5   6.548780\n",
       "5               6   6.476057\n",
       "6               7   6.505171\n",
       "7               8   6.464164\n",
       "8               9   6.600711\n",
       "9              10   6.643650"
      ]
     },
     "execution_count": 47,
     "metadata": {},
     "output_type": "execute_result"
    }
   ],
   "source": [
    "#list of test RMSE values\n",
    "Test_RMSE_List = []\n",
    "\n",
    "#need for RMSE calculation (true y, predicted y)\n",
    "Test_RMSE_List.append(math.sqrt(mean_squared_error(Train['SALARY'], Predictions_1)))\n",
    "Test_RMSE_List.append(math.sqrt(mean_squared_error(Train['SALARY'], Predictions_2)))\n",
    "Test_RMSE_List.append(math.sqrt(mean_squared_error(Train['SALARY'], Predictions_3)))\n",
    "Test_RMSE_List.append(math.sqrt(mean_squared_error(Train['SALARY'], Predictions_4)))\n",
    "Test_RMSE_List.append(math.sqrt(mean_squared_error(Train['SALARY'], Predictions_5)))\n",
    "Test_RMSE_List.append(math.sqrt(mean_squared_error(Train['SALARY'], Predictions_6)))\n",
    "Test_RMSE_List.append(math.sqrt(mean_squared_error(Train['SALARY'], Predictions_7)))\n",
    "Test_RMSE_List.append(math.sqrt(mean_squared_error(Train['SALARY'], Predictions_8)))\n",
    "Test_RMSE_List.append(math.sqrt(mean_squared_error(Train['SALARY'], Predictions_9)))\n",
    "Test_RMSE_List.append(math.sqrt(mean_squared_error(Train['SALARY'], Predictions_10)))\n",
    "\n",
    "Test_RMSE_DF = pd.DataFrame({'Test RMSE':Test_RMSE_List})\n",
    "Test_RMSE_DF.insert(0, 'Feature Number', range(1, 11))\n",
    "Test_RMSE_DF['Feature Number'] \n",
    "\n",
    "Test_RMSE_DF"
   ]
  },
  {
   "cell_type": "code",
   "execution_count": 46,
   "metadata": {},
   "outputs": [
    {
     "data": {
      "image/png": "[encoded data removed]",
      "text/plain": [
       "<Figure size 432x288 with 1 Axes>"
      ]
     },
     "metadata": {},
     "output_type": "display_data"
    },
    {
     "name": "stdout",
     "output_type": "stream",
     "text": [
      "Lowest train RMSE = 3.2186687274068646\n",
      "Lowest test RMSE = 5.721740004826337\n"
     ]
    }
   ],
   "source": [
    "#creating half of the learning curve plotting test error\n",
    "Bestsubset_RMSE = Bestsubset.groupby('Feature Number', as_index= False)['RMSE'].min()\n",
    "\n",
    "fig, ax= plt.subplots()\n",
    "ax.plot(Bestsubset_RMSE['Feature Number'], Bestsubset_RMSE['RMSE'])\n",
    "ax.plot(Test_RMSE_DF['Feature Number'], Test_RMSE_DF['Test RMSE'])\n",
    "ax.set_xlabel('Number of features')\n",
    "ax.set_ylabel('RMSE')\n",
    "plt.show()\n",
    "\n",
    "print('Lowest train RMSE = {}'.format(Bestsubset_RMSE['RMSE'].min()))\n",
    "print('Lowest test RMSE = {}'.format(Test_RMSE_DF['Test RMSE'].min()))"
   ]
  },
  {
   "cell_type": "markdown",
   "metadata": {},
   "source": [
    "#### Best model chosen is model 2"
   ]
  },
  {
   "cell_type": "code",
   "execution_count": null,
   "metadata": {},
   "outputs": [],
   "source": []
  },
  {
   "cell_type": "code",
   "execution_count": null,
   "metadata": {},
   "outputs": [],
   "source": [
    "Bestsubset_Temp.min()"
   ]
  },
  {
   "cell_type": "code",
   "execution_count": null,
   "metadata": {},
   "outputs": [],
   "source": [
    "from sklearn.linear_model import LinearRegression\n",
    "import numpy as np\n",
    "\n",
    "trainingData = np.array([ [2.3,4.3,2.5], [1.3,5.2,5.2], [3.3,2.9,0.8], [3.1,4.3,4.0]  ])\n",
    "trainingScores = np.array([3.4,7.5,4.5,1.6])\n",
    "\n",
    "clf = LinearRegression(fit_intercept=True)\n",
    "clf.fit(trainingData,trainingScores)\n",
    "\n",
    "predictionData = np.array([ [2.5,2.4,2.7], [2.7,3.2,1.2] ])\n",
    "clf.predict(predictionData)"
   ]
  },
  {
   "cell_type": "code",
   "execution_count": 28,
   "metadata": {
    "scrolled": true
   },
   "outputs": [
    {
     "ename": "SyntaxError",
     "evalue": "invalid syntax (<ipython-input-28-0f5abc1e331a>, line 4)",
     "output_type": "error",
     "traceback": [
      "\u001b[1;36m  File \u001b[1;32m\"<ipython-input-28-0f5abc1e331a>\"\u001b[1;36m, line \u001b[1;32m4\u001b[0m\n\u001b[1;33m    knn = KNeighborsRegressor(n_neighbors= 4, metric= 'mahalanobis'.....etc)\u001b[0m\n\u001b[1;37m                                                                     ^\u001b[0m\n\u001b[1;31mSyntaxError\u001b[0m\u001b[1;31m:\u001b[0m invalid syntax\n"
     ]
    }
   ],
   "source": [
    "#Jasmine code\n",
    "\n",
    "predictors = ['something', 'something']\n",
    "knn = KNeighborsRegressor(n_neighbors= 4, metric= 'mahalanobis'.....etc)\n",
    "knn.fit(train[predictors], train['SALARY'])\n",
    "\n",
    "predictions = knn.predict(test[predictors])\n",
    "\n",
    "df = pd.DataFrame(predictions)\n",
    "\n",
    "test = #here\n",
    "#df.to_csv('something.csv')"
   ]
  },
  {
   "cell_type": "code",
   "execution_count": null,
   "metadata": {},
   "outputs": [],
   "source": []
  },
  {
   "cell_type": "code",
   "execution_count": null,
   "metadata": {},
   "outputs": [],
   "source": []
  },
  {
   "cell_type": "code",
   "execution_count": null,
   "metadata": {},
   "outputs": [],
   "source": []
  },
  {
   "cell_type": "code",
   "execution_count": null,
   "metadata": {},
   "outputs": [],
   "source": []
  },
  {
   "cell_type": "code",
   "execution_count": null,
   "metadata": {},
   "outputs": [],
   "source": []
  },
  {
   "cell_type": "markdown",
   "metadata": {},
   "source": [
    "## Old Code and stuff"
   ]
  }
 ],
 "metadata": {
  "celltoolbar": "Raw Cell Format",
  "kernelspec": {
   "display_name": "Python 3",
   "language": "python",
   "name": "python3"
  },
  "language_info": {
   "codemirror_mode": {
    "name": "ipython",
    "version": 3
   },
   "file_extension": ".py",
   "mimetype": "text/x-python",
   "name": "python",
   "nbconvert_exporter": "python",
   "pygments_lexer": "ipython3",
   "version": "3.6.5"
  }
 },
 "nbformat": 4,
 "nbformat_minor": 2
}
